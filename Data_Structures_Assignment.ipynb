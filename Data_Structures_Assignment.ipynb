{
  "nbformat": 4,
  "nbformat_minor": 0,
  "metadata": {
    "colab": {
      "provenance": []
    },
    "kernelspec": {
      "name": "python3",
      "display_name": "Python 3"
    },
    "language_info": {
      "name": "python"
    }
  },
  "cells": [
    {
      "cell_type": "markdown",
      "source": [
        "\n",
        "**Data Types and Structures Questions**\n",
        "\n"
      ],
      "metadata": {
        "id": "yAsAHD8VJdP4"
      }
    },
    {
      "cell_type": "markdown",
      "source": [
        "1. What are data structures, and why are they important?\n",
        "   - Data structures are ways to organize and store data efficiently so that operations like insertion, deletion, searching, and updating can be done effectively.\n",
        "\n",
        "   **Importance:**\n",
        "   - Efficient memory usage\n",
        "   - Faster algorithms\n",
        "   - Clean and manageable code\n",
        "   - Used in real applications like databases, operating systems, compilers etc.\n",
        "\n",
        "2. Explain the difference between mutable and immutable data types with examples.\n",
        "\n",
        "   - Mutable: Values can be changed after creation.\n",
        "   **Examples**: list, dict, set\n",
        "\n",
        "   - Immutable: Values cannot be changed once created.\n",
        "  **Examples:** int, str, tuple, float\n"
      ],
      "metadata": {
        "id": "c4cBc_Nt9eKz"
      }
    },
    {
      "cell_type": "markdown",
      "source": [
        "3. What are the main differences between lists and tuples in Python?\n",
        "\n",
        "| Feature      | List           | Tuple         |\n",
        "|--------------|----------------|---------------|\n",
        "| Mutability   | Mutable        | Immutable     |\n",
        "| Syntax       | [1, 2, 3]      | (1, 2, 3)     |\n",
        "| Performance  | Slower         | Faster        |\n",
        "| Use Case     | Changing data  | Fixed data    |\n",
        "\n",
        "**Explanation:**\n",
        "\n",
        "- Lists are mutable, so we can change, add, or remove elements.\n",
        "- Tuples are immutable, once created we cannot change the values.\n",
        "- Tuples are generally faster than lists.\n",
        "- Tuples are used for fixed data, like coordinates, whereas lists are used when data can change.\n"
      ],
      "metadata": {
        "id": "DhFJRLkeHCIZ"
      }
    },
    {
      "cell_type": "markdown",
      "source": [
        "4.Describe how dictionaries store data.\n",
        " - Dictionaries store data in key-value pairs.\n",
        " - Each key maps to a specific value.\n",
        " - Internally, Python uses a hash table to manage dictionary keys for fast\n",
        "      access.\n",
        "      \n",
        "   **Example:**  We can create a dictionary with a student's details:\n"
      ],
      "metadata": {
        "id": "1b-JYVetBpxG"
      }
    },
    {
      "cell_type": "code",
      "source": [
        "student = {'name': 'Amit', 'age': 20, 'city': 'Delhi'}\n",
        "\n",
        "# Accessing values using keys\n",
        "print(\"Student Name:\", student['name'])\n",
        "print(\"Student Age:\", student['age'])\n",
        "print(\"City:\", student['city'])\n"
      ],
      "metadata": {
        "colab": {
          "base_uri": "https://localhost:8080/"
        },
        "id": "jF5jLtAuChT4",
        "outputId": "a01ff04f-4971-4d0c-87af-1dc835f76151"
      },
      "execution_count": null,
      "outputs": [
        {
          "output_type": "stream",
          "name": "stdout",
          "text": [
            "Student Name: Amit\n",
            "Student Age: 20\n",
            "City: Delhi\n"
          ]
        }
      ]
    },
    {
      "cell_type": "markdown",
      "source": [
        "5. Why might you use a set instead of a list in Python?\n",
        "   - Sets do not allow duplicate values\n",
        "   - Sets are unordered.\n",
        "   - Sets are optimized for fast membership tests.\n",
        "   - Useful when you want only unique items in your collection.\n",
        "\n",
        "   **Example:**\n",
        "   If we want to store only unique numbers from a list:"
      ],
      "metadata": {
        "id": "fyqe9pONFB1Q"
      }
    },
    {
      "cell_type": "code",
      "source": [
        "# List with duplicates\n",
        "data = [1, 2, 2, 3, 4, 4, 5]\n",
        "\n",
        "# Convert list to set to remove duplicates\n",
        "unique_data = set(data)\n",
        "\n",
        "print(\"Original List:\", data)\n",
        "print(\"Unique Data (Set):\", unique_data)\n"
      ],
      "metadata": {
        "colab": {
          "base_uri": "https://localhost:8080/"
        },
        "id": "x1-1IxV6FZxk",
        "outputId": "bee4230a-47b8-4941-da76-a2e539c75423"
      },
      "execution_count": null,
      "outputs": [
        {
          "output_type": "stream",
          "name": "stdout",
          "text": [
            "Original List: [1, 2, 2, 3, 4, 4, 5]\n",
            "Unique Data (Set): {1, 2, 3, 4, 5}\n"
          ]
        }
      ]
    },
    {
      "cell_type": "markdown",
      "source": [
        "6. What is a string in Python, and how is it different from a list?\n",
        "   - A string is a sequence of characters enclosed in quotes (' ' or \" \"), whereas a list is a collection of various data types (including strings), enclosed in square brackets [ ].\n",
        "\n",
        " **Differences:**\n",
        "\n",
        "| Feature      | String             | List                       |\n",
        "| ------------ | ------------------ | -------------------------- |\n",
        "| Data Type    | Text               | Any (int, str, float etc.) |\n",
        "| Syntax       | `\"Hello\"`          | `[\"Hello\", 123, 4.5]`      |\n",
        "| Mutability   | Immutable          | Mutable                    |\n",
        "| Index Access | Yes (e.g., `s[0]`) | Yes (e.g., `l[0]`)         |\n",
        "| Methods      | String-specific    | List-specific              |\n"
      ],
      "metadata": {
        "id": "Gu8_30_W5tIk"
      }
    },
    {
      "cell_type": "code",
      "source": [
        "# String\n",
        "s = \"Hello\"\n",
        "print(\"First character in string:\", s[0])\n",
        "\n",
        "# List\n",
        "l = [\"Hello\", 123, 4.5]\n",
        "print(\"First element in list:\", l[0])\n"
      ],
      "metadata": {
        "colab": {
          "base_uri": "https://localhost:8080/"
        },
        "id": "XKGPtUrq5-3o",
        "outputId": "3741413d-2ea0-4462-f310-c6d286061558"
      },
      "execution_count": 1,
      "outputs": [
        {
          "output_type": "stream",
          "name": "stdout",
          "text": [
            "First character in string: H\n",
            "First element in list: Hello\n"
          ]
        }
      ]
    },
    {
      "cell_type": "markdown",
      "source": [
        "7. How do tuples ensure data integrity in Python?\n",
        "   - Tuples are immutable, meaning once created, their data cannot be changed. This immutability ensures that data remains consistent and secure throughout the program."
      ],
      "metadata": {
        "id": "5fsEGNtp6mS-"
      }
    },
    {
      "cell_type": "code",
      "source": [
        "# Tuple with user data\n",
        "user_data = ('Vaibhav', 25, 'Male')\n",
        "\n",
        "# Trying to change tuple element will raise error\n",
        "# user_data[1] = 30  # ❌ This will throw: TypeError\n",
        "\n",
        "print(\"Tuple Data:\", user_data)\n"
      ],
      "metadata": {
        "colab": {
          "base_uri": "https://localhost:8080/"
        },
        "id": "sRO8OLWE61ZS",
        "outputId": "d4029896-8b48-4b0a-ae9f-c8a601362ecd"
      },
      "execution_count": 2,
      "outputs": [
        {
          "output_type": "stream",
          "name": "stdout",
          "text": [
            "Tuple Data: ('Vaibhav', 25, 'Male')\n"
          ]
        }
      ]
    },
    {
      "cell_type": "markdown",
      "source": [
        "8. What is a hash table, and how does it relate to dictionaries in Python?\n",
        "   - A hash table is a data structure that maps keys to values using a hash function for fast access. In Python, dictionaries are implemented using hash tables."
      ],
      "metadata": {
        "id": "iYEZFOOt66Rj"
      }
    },
    {
      "cell_type": "code",
      "source": [
        "# Dictionary (uses hash table internally)\n",
        "student = {\n",
        "    'name': 'Amit',\n",
        "    'roll': 101,\n",
        "    'marks': 95\n",
        "}\n",
        "\n",
        "print(\"Name:\", student['name'])\n"
      ],
      "metadata": {
        "colab": {
          "base_uri": "https://localhost:8080/"
        },
        "id": "HiHgc_Fe7A4n",
        "outputId": "4b4b38b7-b6b0-4efd-c80d-e3cca90c961b"
      },
      "execution_count": 3,
      "outputs": [
        {
          "output_type": "stream",
          "name": "stdout",
          "text": [
            "Name: Amit\n"
          ]
        }
      ]
    },
    {
      "cell_type": "markdown",
      "source": [
        "9. Can lists contain different data types in Python?\n",
        "   - Yes, Python lists are heterogeneous, meaning they can contain different data types like int, str, float, boolean, etc."
      ],
      "metadata": {
        "id": "hwHD0IEb7K5k"
      }
    },
    {
      "cell_type": "code",
      "source": [
        "mixed_list = [1, \"Hello\", 3.14, True]\n",
        "\n",
        "for item in mixed_list:\n",
        "    print(item, \"=>\", type(item))\n"
      ],
      "metadata": {
        "colab": {
          "base_uri": "https://localhost:8080/"
        },
        "id": "wn9XBH957RSO",
        "outputId": "537c11c6-79b5-47e8-8b78-04f7cc31f124"
      },
      "execution_count": 4,
      "outputs": [
        {
          "output_type": "stream",
          "name": "stdout",
          "text": [
            "1 => <class 'int'>\n",
            "Hello => <class 'str'>\n",
            "3.14 => <class 'float'>\n",
            "True => <class 'bool'>\n"
          ]
        }
      ]
    },
    {
      "cell_type": "markdown",
      "source": [
        "10. Explain why strings are immutable in Python.\n",
        "    - Strings in Python are immutable, meaning their content cannot be changed once defined. This design ensures:\n",
        "\n",
        "     - **Memory safety**\n",
        "\n",
        "     - **Thread safety**\n",
        "\n",
        "     - **Consistent hash values (important when used as dictionary keys)**"
      ],
      "metadata": {
        "id": "7-QUYU867uab"
      }
    },
    {
      "cell_type": "code",
      "source": [
        "s = \"Hello\"\n",
        "\n",
        "# s[0] = \"h\"  # ❌ Not allowed\n",
        "\n",
        "# Instead, create a new string\n",
        "s = \"h\" + s[1:]\n",
        "print(s)\n"
      ],
      "metadata": {
        "colab": {
          "base_uri": "https://localhost:8080/"
        },
        "id": "iMZU3RnA8KlU",
        "outputId": "a1d87419-8e2d-4fa0-a31c-2958ef35b382"
      },
      "execution_count": 5,
      "outputs": [
        {
          "output_type": "stream",
          "name": "stdout",
          "text": [
            "hello\n"
          ]
        }
      ]
    },
    {
      "cell_type": "markdown",
      "source": [
        "  11: What advantages do dictionaries offer over lists for certain tasks?\n",
        "    \n",
        "        - Dictionaries offer key-based access, which is faster and more meaningful than using index numbers in lists.\n",
        "\n",
        " **Comparison:**\n",
        "\n",
        "| Feature            | List                        | Dictionary                        |\n",
        "|--------------------|------------------------------|------------------------------------|\n",
        "| Data access        | By index                    | By key                            |\n",
        "| Speed              | Slower for lookup/search    | Faster (O(1) average time)        |\n",
        "| Key-value support  | No                          | Yes                               |\n",
        "| Use case           | Ordered data                | Fast lookups, mappings            |\n"
      ],
      "metadata": {
        "id": "OWaX5zTgAPWf"
      }
    },
    {
      "cell_type": "code",
      "source": [
        "# Using a list\n",
        "student_list = ['Amit', 20, 'Delhi']\n",
        "print(\"Name from list:\", student_list[0])  # No label for value\n",
        "\n",
        "# Using a dictionary\n",
        "student_dict = {'name': 'Amit', 'age': 20, 'city': 'Delhi'}\n",
        "print(\"Name from dict:\", student_dict['name'])  # Clear label\n"
      ],
      "metadata": {
        "colab": {
          "base_uri": "https://localhost:8080/"
        },
        "id": "s8bpGrlN9BPg",
        "outputId": "5598f4fb-3872-47c5-8595-c4a1847b4520"
      },
      "execution_count": 6,
      "outputs": [
        {
          "output_type": "stream",
          "name": "stdout",
          "text": [
            "Name from list: Amit\n",
            "Name from dict: Amit\n"
          ]
        }
      ]
    },
    {
      "cell_type": "markdown",
      "source": [
        "12. Describe a scenario where using a tuple would be preferable over a list.\n",
        "    - Use a tuple when you want to store constant, fixed, and unchangeable data — such as coordinates, RGB color values, or database keys.\n",
        "    "
      ],
      "metadata": {
        "id": "nRqrO4jl9Ist"
      }
    },
    {
      "cell_type": "code",
      "source": [
        "# Tuple for coordinates\n",
        "coordinates = (25.5, 77.3)\n",
        "\n",
        "# List for shopping items\n",
        "items = [\"apple\", \"milk\", \"rice\"]\n",
        "\n",
        "print(\"Coordinates:\", coordinates)\n"
      ],
      "metadata": {
        "colab": {
          "base_uri": "https://localhost:8080/"
        },
        "id": "S-lEqc729Qpj",
        "outputId": "3b279763-1004-4ca8-eb8e-caaa146cda5b"
      },
      "execution_count": 7,
      "outputs": [
        {
          "output_type": "stream",
          "name": "stdout",
          "text": [
            "Coordinates: (25.5, 77.3)\n"
          ]
        }
      ]
    },
    {
      "cell_type": "markdown",
      "source": [
        "13. How do sets handle duplicate values in Python?\n",
        "    - Sets automatically remove duplicates. They only store unique elements, and they are unordered."
      ],
      "metadata": {
        "id": "7Zf1ywMO9Wot"
      }
    },
    {
      "cell_type": "code",
      "source": [
        "numbers = [1, 2, 2, 3, 4, 4, 5]\n",
        "unique_numbers = set(numbers)\n",
        "print(\"Original List:\", numbers)\n",
        "print(\"After removing duplicates:\", unique_numbers)\n"
      ],
      "metadata": {
        "colab": {
          "base_uri": "https://localhost:8080/"
        },
        "id": "Ra7EOXok9cu_",
        "outputId": "3ccbfef1-aa05-499d-c864-bbb067ccb12c"
      },
      "execution_count": 8,
      "outputs": [
        {
          "output_type": "stream",
          "name": "stdout",
          "text": [
            "Original List: [1, 2, 2, 3, 4, 4, 5]\n",
            "After removing duplicates: {1, 2, 3, 4, 5}\n"
          ]
        }
      ]
    },
    {
      "cell_type": "markdown",
      "source": [
        "14. How does the “in” keyword work differently for lists and dictionaries?\n",
        "\n",
        "\n",
        "\n",
        "| Feature             | List                          | Dictionary                           |\n",
        "|---------------------|-------------------------------|---------------------------------------|\n",
        "| Works on            | Values                        | Keys                                  |\n",
        "| Example             | `\"apple\" in fruits_list`      | `\"name\" in student_dict`             |\n",
        "| Speed               | Slower (O(n))                 | Faster (O(1) average using hash)     |\n"
      ],
      "metadata": {
        "id": "4BAHJnC-BT9x"
      }
    },
    {
      "cell_type": "code",
      "source": [
        "my_list = [1, 2, 3]\n",
        "print(2 in my_list)  # True\n",
        "\n",
        "my_dict = {'name': 'Amit', 'age': 20}\n",
        "print('name' in my_dict)  # True\n",
        "print('Amit' in my_dict)  # False (value, not key)\n"
      ],
      "metadata": {
        "colab": {
          "base_uri": "https://localhost:8080/"
        },
        "id": "F4Wt9AOW9z2F",
        "outputId": "00ec211a-b411-41b6-fa6e-d21eb7be6a17"
      },
      "execution_count": 9,
      "outputs": [
        {
          "output_type": "stream",
          "name": "stdout",
          "text": [
            "True\n",
            "True\n",
            "False\n"
          ]
        }
      ]
    },
    {
      "cell_type": "markdown",
      "source": [
        "15. Can you modify the elements of a tuple? Explain why or why not.\n",
        "    - No, you cannot modify a tuple’s elements.\n",
        "Tuples are immutable, meaning once created, their elements cannot be changed, added, or removed."
      ],
      "metadata": {
        "id": "hMb0dSz095w_"
      }
    },
    {
      "cell_type": "code",
      "source": [
        "t = (1, 2, 3)\n",
        "# t[0] = 10  # ❌ Error: TypeError\n",
        "\n",
        "print(\"Original Tuple:\", t)\n"
      ],
      "metadata": {
        "colab": {
          "base_uri": "https://localhost:8080/"
        },
        "id": "7p9UBitG-AN_",
        "outputId": "8bcaf320-95b6-48d9-d2c0-3fb0f98f6cec"
      },
      "execution_count": 10,
      "outputs": [
        {
          "output_type": "stream",
          "name": "stdout",
          "text": [
            "Original Tuple: (1, 2, 3)\n"
          ]
        }
      ]
    },
    {
      "cell_type": "markdown",
      "source": [
        "16. What is a nested dictionary, and give an example of its use case?\n",
        "    - A nested dictionary means a dictionary inside another dictionary.\n",
        "It is used to represent complex hierarchical data, such as student records, company employees, etc."
      ],
      "metadata": {
        "id": "yb_bNlWb-K5s"
      }
    },
    {
      "cell_type": "code",
      "source": [
        "students = {\n",
        "    'A101': {'name': 'Amit', 'age': 20, 'city': 'Delhi'},\n",
        "    'A102': {'name': 'Riya', 'age': 22, 'city': 'Mumbai'}\n",
        "}\n",
        "\n",
        "print(\"Name of A101:\", students['A101']['name'])\n",
        "print(\"City of A102:\", students['A102']['city'])\n"
      ],
      "metadata": {
        "colab": {
          "base_uri": "https://localhost:8080/"
        },
        "id": "2sTFe0GX-Qsl",
        "outputId": "964953ad-9850-4ac7-af69-8c7a031ba892"
      },
      "execution_count": 11,
      "outputs": [
        {
          "output_type": "stream",
          "name": "stdout",
          "text": [
            "Name of A101: Amit\n",
            "City of A102: Mumbai\n"
          ]
        }
      ]
    },
    {
      "cell_type": "markdown",
      "source": [
        "17. Describe the time complexity of accessing elements in a dictionary.\n",
        "    - In Python, dictionaries are implemented using hash tables, so accessing elements using keys is very fast.  \n",
        "  \n",
        "  \n",
        "| Operation           | Time Complexity |\n",
        "|---------------------|-----------------|\n",
        "| Access by key       | O(1)            |\n",
        "| Insert or update    | O(1)            |\n",
        "| Delete by key       | O(1)            |\n"
      ],
      "metadata": {
        "id": "Zry8g7ig-TTe"
      }
    },
    {
      "cell_type": "markdown",
      "source": [
        "18. In what situations are lists preferred over dictionaries?\n",
        "    - Use lists when:\n",
        "\n",
        "    - You need to maintain order of items.\n",
        "\n",
        "    - You’re dealing with simple sequences.\n",
        "\n",
        "    - You want to store duplicate values.\n",
        "\n",
        "    - Keys/labels are not needed."
      ],
      "metadata": {
        "id": "IgZjMNLt-leb"
      }
    },
    {
      "cell_type": "code",
      "source": [
        "fruits = ['apple', 'banana', 'apple']  # duplicates allowed\n",
        "print(\"First fruit:\", fruits[0])\n"
      ],
      "metadata": {
        "colab": {
          "base_uri": "https://localhost:8080/"
        },
        "id": "DY1u1DPn-7ti",
        "outputId": "21e90aae-8ce4-4d47-f4fe-f282d57e18be"
      },
      "execution_count": 12,
      "outputs": [
        {
          "output_type": "stream",
          "name": "stdout",
          "text": [
            "First fruit: apple\n"
          ]
        }
      ]
    },
    {
      "cell_type": "markdown",
      "source": [
        "19. Why are dictionaries considered unordered, and how does that affect data retrieval?\n",
        "     - Earlier (before Python 3.7), dictionaries were unordered — meaning keys did not maintain insertion order.\n",
        "Now in Python 3.7+, they do maintain order, but conceptually:\n",
        "\n",
        "     - Dictionaries are optimized for fast key lookup, not position.\n",
        "\n",
        "     - You cannot access items by index, like in lists.\n",
        "\n",
        "  ** Effect:**\n",
        "  You must always access values by key, not by their position.\n",
        "  "
      ],
      "metadata": {
        "id": "arz4_kVZ_B29"
      }
    },
    {
      "cell_type": "code",
      "source": [
        "person = {'name': 'Amit', 'age': 20}\n",
        "print(person['name'])  # OK\n",
        "# print(person[0])  ❌ Error: KeyError\n"
      ],
      "metadata": {
        "colab": {
          "base_uri": "https://localhost:8080/"
        },
        "id": "CwflAh6W_V2D",
        "outputId": "2ff21aeb-69ff-4569-f787-425a37ff50d2"
      },
      "execution_count": 13,
      "outputs": [
        {
          "output_type": "stream",
          "name": "stdout",
          "text": [
            "Amit\n"
          ]
        }
      ]
    },
    {
      "cell_type": "markdown",
      "source": [
        "20. Explain the difference between a list and a dictionary in terms of data retrieval.\n",
        "\n",
        "\n",
        "| Feature           | List           | Dictionary                          |\n",
        "|-------------------|----------------|--------------------------------------|\n",
        "| Access method     | By index       | By key                               |\n",
        "| Example           | list[0]        | dict['name']                         |\n",
        "| Use case          | Ordered data   | Key-value mapping                    |\n",
        "| Retrieval speed   | Slower         | Faster (O(1) average using hash table) |\n"
      ],
      "metadata": {
        "id": "koH718ZACVoD"
      }
    },
    {
      "cell_type": "code",
      "source": [
        "# List\n",
        "fruits = ['apple', 'banana']\n",
        "print(\"First fruit:\", fruits[0])  # index-based\n",
        "\n",
        "# Dictionary\n",
        "student = {'name': 'Amit', 'age': 20}\n",
        "print(\"Student Name:\", student['name'])  # key-based\n"
      ],
      "metadata": {
        "colab": {
          "base_uri": "https://localhost:8080/"
        },
        "id": "YuIhwEnC_gg1",
        "outputId": "3685fd78-7150-4397-8efd-d97122a3e147"
      },
      "execution_count": 14,
      "outputs": [
        {
          "output_type": "stream",
          "name": "stdout",
          "text": [
            "First fruit: apple\n",
            "Student Name: Amit\n"
          ]
        }
      ]
    },
    {
      "cell_type": "markdown",
      "source": [
        "\n",
        "**Practical Questions**\n",
        "\n",
        "\n"
      ],
      "metadata": {
        "id": "lacKJyG8JCtq"
      }
    },
    {
      "cell_type": "markdown",
      "source": [
        "1. Write a code to create a string with your name and print it."
      ],
      "metadata": {
        "id": "Maek9AekEPA-"
      }
    },
    {
      "cell_type": "code",
      "source": [
        "name = \"Vaibhav\"\n",
        "print(\"My name is:\", name)\n"
      ],
      "metadata": {
        "colab": {
          "base_uri": "https://localhost:8080/"
        },
        "id": "SmHoTwhgESgi",
        "outputId": "dbf91d07-d4ce-439d-a80c-8bae465208c8"
      },
      "execution_count": 15,
      "outputs": [
        {
          "output_type": "stream",
          "name": "stdout",
          "text": [
            "My name is: Vaibhav\n"
          ]
        }
      ]
    },
    {
      "cell_type": "markdown",
      "source": [
        "2. Write a code to find the length of the string \"Hello World\"."
      ],
      "metadata": {
        "id": "C4B0Z9ENEYpA"
      }
    },
    {
      "cell_type": "code",
      "source": [
        "text = \"Hello World\"\n",
        "print(\"Length of string:\", len(text))\n"
      ],
      "metadata": {
        "colab": {
          "base_uri": "https://localhost:8080/"
        },
        "id": "8G8u5nY9EZSK",
        "outputId": "97af28f5-882b-433b-c6bf-a452a52f98f0"
      },
      "execution_count": 16,
      "outputs": [
        {
          "output_type": "stream",
          "name": "stdout",
          "text": [
            "Length of string: 11\n"
          ]
        }
      ]
    },
    {
      "cell_type": "markdown",
      "source": [
        "3. Write a code to slice the first 3 characters from the string \"Python Programming\"."
      ],
      "metadata": {
        "id": "7Kp_xf28Efsh"
      }
    },
    {
      "cell_type": "code",
      "source": [
        "text = \"Python Programming\"\n",
        "print(\"First 3 characters:\", text[:3])\n"
      ],
      "metadata": {
        "colab": {
          "base_uri": "https://localhost:8080/"
        },
        "id": "3PRq8oWFEioc",
        "outputId": "ff93637a-c1a1-4ecf-9d1d-66112a88f0bb"
      },
      "execution_count": 17,
      "outputs": [
        {
          "output_type": "stream",
          "name": "stdout",
          "text": [
            "First 3 characters: Pyt\n"
          ]
        }
      ]
    },
    {
      "cell_type": "markdown",
      "source": [
        "4. Write a code to convert the string \"hello\" to uppercase."
      ],
      "metadata": {
        "id": "9t9_Nx7yElQ6"
      }
    },
    {
      "cell_type": "code",
      "source": [
        "text = \"hello\"\n",
        "print(\"Uppercase:\", text.upper())\n"
      ],
      "metadata": {
        "colab": {
          "base_uri": "https://localhost:8080/"
        },
        "id": "cg-FnJl_Enko",
        "outputId": "59b7d38d-8f4c-484e-e4da-ce388d39b988"
      },
      "execution_count": 18,
      "outputs": [
        {
          "output_type": "stream",
          "name": "stdout",
          "text": [
            "Uppercase: HELLO\n"
          ]
        }
      ]
    },
    {
      "cell_type": "markdown",
      "source": [
        "5. Write a code to replace the word \"apple\" with \"orange\" in the string \"I like apple\"."
      ],
      "metadata": {
        "id": "yI9IprmEEq4g"
      }
    },
    {
      "cell_type": "code",
      "source": [
        "text = \"I like apple\"\n",
        "new_text = text.replace(\"apple\", \"orange\")\n",
        "print(new_text)\n"
      ],
      "metadata": {
        "colab": {
          "base_uri": "https://localhost:8080/"
        },
        "id": "caDU1kxeEr5p",
        "outputId": "f8adf0e8-d533-49ab-a07a-760fea0fa9b4"
      },
      "execution_count": 19,
      "outputs": [
        {
          "output_type": "stream",
          "name": "stdout",
          "text": [
            "I like orange\n"
          ]
        }
      ]
    },
    {
      "cell_type": "markdown",
      "source": [
        "6. Write a code to create a list with numbers 1 to 5 and print it."
      ],
      "metadata": {
        "id": "-ssPFLHTEv3l"
      }
    },
    {
      "cell_type": "code",
      "source": [
        "numbers = [1, 2, 3, 4, 5]\n",
        "print(\"List:\", numbers)\n"
      ],
      "metadata": {
        "colab": {
          "base_uri": "https://localhost:8080/"
        },
        "id": "_KsKw9UyEw2Q",
        "outputId": "1b86c9a0-82b6-4244-89eb-ddc582aa8838"
      },
      "execution_count": 20,
      "outputs": [
        {
          "output_type": "stream",
          "name": "stdout",
          "text": [
            "List: [1, 2, 3, 4, 5]\n"
          ]
        }
      ]
    },
    {
      "cell_type": "markdown",
      "source": [
        "7. Write a code to append the number 10 to the list [1, 2, 3, 4]."
      ],
      "metadata": {
        "id": "ujmxSMRuE0li"
      }
    },
    {
      "cell_type": "code",
      "source": [
        "numbers = [1, 2, 3, 4]\n",
        "numbers.append(10)\n",
        "print(\"After appending:\", numbers)\n"
      ],
      "metadata": {
        "colab": {
          "base_uri": "https://localhost:8080/"
        },
        "id": "i-v-gk9aE8oc",
        "outputId": "afceed97-d63b-418b-c05f-c1518cbf44aa"
      },
      "execution_count": 21,
      "outputs": [
        {
          "output_type": "stream",
          "name": "stdout",
          "text": [
            "After appending: [1, 2, 3, 4, 10]\n"
          ]
        }
      ]
    },
    {
      "cell_type": "markdown",
      "source": [
        "8. Write a code to remove the number 3 from the list [1, 2, 3, 4, 5]."
      ],
      "metadata": {
        "id": "ahjoygOfFBH7"
      }
    },
    {
      "cell_type": "code",
      "source": [
        "numbers = [1, 2, 3, 4, 5]\n",
        "numbers.remove(3)\n",
        "print(\"After removing 3:\", numbers)\n"
      ],
      "metadata": {
        "colab": {
          "base_uri": "https://localhost:8080/"
        },
        "id": "_Fbzk2xtFCME",
        "outputId": "06694975-6451-42f2-cfa4-1af548fb798d"
      },
      "execution_count": 22,
      "outputs": [
        {
          "output_type": "stream",
          "name": "stdout",
          "text": [
            "After removing 3: [1, 2, 4, 5]\n"
          ]
        }
      ]
    },
    {
      "cell_type": "markdown",
      "source": [
        "9. Write a code to access the second element in the list ['a', 'b', 'c', 'd']."
      ],
      "metadata": {
        "id": "IKiBS5McFF-k"
      }
    },
    {
      "cell_type": "code",
      "source": [
        "chars = ['a', 'b', 'c', 'd']\n",
        "print(\"Second element:\", chars[1])\n"
      ],
      "metadata": {
        "colab": {
          "base_uri": "https://localhost:8080/"
        },
        "id": "wIaMzvSsFGts",
        "outputId": "5db196ef-99fd-4823-c9f8-fb3143a0e3d5"
      },
      "execution_count": 23,
      "outputs": [
        {
          "output_type": "stream",
          "name": "stdout",
          "text": [
            "Second element: b\n"
          ]
        }
      ]
    },
    {
      "cell_type": "markdown",
      "source": [
        "10. Write a code to reverse the list [10, 20, 30, 40, 50]."
      ],
      "metadata": {
        "id": "ADNDx2n4FKCy"
      }
    },
    {
      "cell_type": "code",
      "source": [
        "numbers = [10, 20, 30, 40, 50]\n",
        "numbers.reverse()\n",
        "print(\"Reversed list:\", numbers)\n"
      ],
      "metadata": {
        "colab": {
          "base_uri": "https://localhost:8080/"
        },
        "id": "W3KBV-MuFK_a",
        "outputId": "1fc69f9d-df1d-4784-dad2-e938fe9b0226"
      },
      "execution_count": 24,
      "outputs": [
        {
          "output_type": "stream",
          "name": "stdout",
          "text": [
            "Reversed list: [50, 40, 30, 20, 10]\n"
          ]
        }
      ]
    },
    {
      "cell_type": "markdown",
      "source": [
        "11. Write a code to create a tuple with the elements 100, 200, 300 and print it."
      ],
      "metadata": {
        "id": "SHv2XOITHNkP"
      }
    },
    {
      "cell_type": "code",
      "source": [
        "my_tuple = (100, 200, 300)\n",
        "print(\"Tuple:\", my_tuple)\n"
      ],
      "metadata": {
        "colab": {
          "base_uri": "https://localhost:8080/"
        },
        "id": "f2QlilS9HOPh",
        "outputId": "196513e1-33d2-4653-c573-afa37ffe947a"
      },
      "execution_count": 25,
      "outputs": [
        {
          "output_type": "stream",
          "name": "stdout",
          "text": [
            "Tuple: (100, 200, 300)\n"
          ]
        }
      ]
    },
    {
      "cell_type": "markdown",
      "source": [
        "12. Access the second-to-last element of the tuple ('red', 'green', 'blue', 'yellow')."
      ],
      "metadata": {
        "id": "EvXanY8tHSbh"
      }
    },
    {
      "cell_type": "code",
      "source": [
        "colors = ('red', 'green', 'blue', 'yellow')\n",
        "print(\"Second-to-last element:\", colors[-2])\n"
      ],
      "metadata": {
        "colab": {
          "base_uri": "https://localhost:8080/"
        },
        "id": "P3_xrV6tHUXy",
        "outputId": "a5dbcd54-77bd-41cd-e4b7-b4abc6ef8d33"
      },
      "execution_count": 26,
      "outputs": [
        {
          "output_type": "stream",
          "name": "stdout",
          "text": [
            "Second-to-last element: blue\n"
          ]
        }
      ]
    },
    {
      "cell_type": "markdown",
      "source": [
        "13. Find the minimum number in the tuple (10, 20, 5, 15)."
      ],
      "metadata": {
        "id": "0xm9JOo3HVZf"
      }
    },
    {
      "cell_type": "code",
      "source": [
        "nums = (10, 20, 5, 15)\n",
        "print(\"Minimum value:\", min(nums))\n"
      ],
      "metadata": {
        "colab": {
          "base_uri": "https://localhost:8080/"
        },
        "id": "Nt0qnkBGHX4s",
        "outputId": "4fa09da4-fcaf-4c4e-c27f-f21497f7ada4"
      },
      "execution_count": 27,
      "outputs": [
        {
          "output_type": "stream",
          "name": "stdout",
          "text": [
            "Minimum value: 5\n"
          ]
        }
      ]
    },
    {
      "cell_type": "markdown",
      "source": [
        "14. Find the index of element \"cat\" in the tuple ('dog', 'cat', 'rabbit')."
      ],
      "metadata": {
        "id": "tQf3D_l1HaSn"
      }
    },
    {
      "cell_type": "code",
      "source": [
        "animals = ('dog', 'cat', 'rabbit')\n",
        "print(\"Index of 'cat':\", animals.index('cat'))\n"
      ],
      "metadata": {
        "colab": {
          "base_uri": "https://localhost:8080/"
        },
        "id": "_aTnieQkHcez",
        "outputId": "6d17a302-a0a4-4659-9bc0-d5f88d72ca60"
      },
      "execution_count": 28,
      "outputs": [
        {
          "output_type": "stream",
          "name": "stdout",
          "text": [
            "Index of 'cat': 1\n"
          ]
        }
      ]
    },
    {
      "cell_type": "markdown",
      "source": [
        "15. Create a tuple of 3 fruits and check if \"kiwi\" is in it."
      ],
      "metadata": {
        "id": "aj6CbBpXHfHZ"
      }
    },
    {
      "cell_type": "code",
      "source": [
        "fruits = (\"apple\", \"banana\", \"mango\")\n",
        "print(\"Is 'kiwi' in fruits?\", \"kiwi\" in fruits)\n"
      ],
      "metadata": {
        "colab": {
          "base_uri": "https://localhost:8080/"
        },
        "id": "9JcdnarIHiio",
        "outputId": "6d4aa871-75b2-4943-c1d2-d92df1dc4f9e"
      },
      "execution_count": 29,
      "outputs": [
        {
          "output_type": "stream",
          "name": "stdout",
          "text": [
            "Is 'kiwi' in fruits? False\n"
          ]
        }
      ]
    },
    {
      "cell_type": "markdown",
      "source": [
        "16. Create a set with the elements 'a', 'b', 'c' and print it."
      ],
      "metadata": {
        "id": "PaePFhbwHldS"
      }
    },
    {
      "cell_type": "code",
      "source": [
        "my_set = {'a', 'b', 'c'}\n",
        "print(\"Set:\", my_set)\n"
      ],
      "metadata": {
        "colab": {
          "base_uri": "https://localhost:8080/"
        },
        "id": "ONDa548jHnXz",
        "outputId": "3d09da5c-5a63-4558-d437-7530be6ee2de"
      },
      "execution_count": 30,
      "outputs": [
        {
          "output_type": "stream",
          "name": "stdout",
          "text": [
            "Set: {'a', 'b', 'c'}\n"
          ]
        }
      ]
    },
    {
      "cell_type": "markdown",
      "source": [
        "17. Clear all elements from the set {1, 2, 3, 4, 5}."
      ],
      "metadata": {
        "id": "mo-Xme4BHqoC"
      }
    },
    {
      "cell_type": "code",
      "source": [
        "s = {1, 2, 3, 4, 5}\n",
        "s.clear()\n",
        "print(\"Set after clearing:\", s)\n"
      ],
      "metadata": {
        "colab": {
          "base_uri": "https://localhost:8080/"
        },
        "id": "yX0MdUtDHrUB",
        "outputId": "86643904-f758-4233-8957-33665e9d7bd9"
      },
      "execution_count": 31,
      "outputs": [
        {
          "output_type": "stream",
          "name": "stdout",
          "text": [
            "Set after clearing: set()\n"
          ]
        }
      ]
    },
    {
      "cell_type": "markdown",
      "source": [
        "18. Remove the element 4 from the set {1, 2, 3, 4}."
      ],
      "metadata": {
        "id": "FCmzklaDHu15"
      }
    },
    {
      "cell_type": "code",
      "source": [
        "s = {1, 2, 3, 4}\n",
        "s.remove(4)\n",
        "print(\"Set after removing 4:\", s)\n"
      ],
      "metadata": {
        "colab": {
          "base_uri": "https://localhost:8080/"
        },
        "id": "TmTv0DcuHvXv",
        "outputId": "8317991a-fb5a-4a64-c5fd-dcfe0f7544d9"
      },
      "execution_count": 32,
      "outputs": [
        {
          "output_type": "stream",
          "name": "stdout",
          "text": [
            "Set after removing 4: {1, 2, 3}\n"
          ]
        }
      ]
    },
    {
      "cell_type": "markdown",
      "source": [
        "19. Find the union of {1, 2, 3} and {3, 4, 5}."
      ],
      "metadata": {
        "id": "wcFNwhRLHyvd"
      }
    },
    {
      "cell_type": "code",
      "source": [
        "a = {1, 2, 3}\n",
        "b = {3, 4, 5}\n",
        "print(\"Union:\", a.union(b))\n"
      ],
      "metadata": {
        "colab": {
          "base_uri": "https://localhost:8080/"
        },
        "id": "wH1tIczzHzZs",
        "outputId": "50c1d294-3692-4ff5-c319-fc23ed1bca57"
      },
      "execution_count": 33,
      "outputs": [
        {
          "output_type": "stream",
          "name": "stdout",
          "text": [
            "Union: {1, 2, 3, 4, 5}\n"
          ]
        }
      ]
    },
    {
      "cell_type": "markdown",
      "source": [
        "20. Find the intersection of {1, 2, 3} and {2, 3, 4}."
      ],
      "metadata": {
        "id": "FTEq7T8cH1yh"
      }
    },
    {
      "cell_type": "code",
      "source": [
        "a = {1, 2, 3}\n",
        "b = {2, 3, 4}\n",
        "print(\"Intersection:\", a.intersection(b))\n"
      ],
      "metadata": {
        "colab": {
          "base_uri": "https://localhost:8080/"
        },
        "id": "wpY6oEfAH7KM",
        "outputId": "d0434767-0549-4969-91d5-e88207aaef24"
      },
      "execution_count": 34,
      "outputs": [
        {
          "output_type": "stream",
          "name": "stdout",
          "text": [
            "Intersection: {2, 3}\n"
          ]
        }
      ]
    },
    {
      "cell_type": "markdown",
      "source": [
        "21. Create a dictionary with keys \"name\", \"age\", \"city\" and print it."
      ],
      "metadata": {
        "id": "ylUvqz63H_aw"
      }
    },
    {
      "cell_type": "code",
      "source": [
        "student = {'name': 'John', 'age': 25, 'city': 'Delhi'}\n",
        "print(\"Student Dictionary:\", student)\n"
      ],
      "metadata": {
        "colab": {
          "base_uri": "https://localhost:8080/"
        },
        "id": "tB4gIA1fIAaw",
        "outputId": "8da6b86a-5648-432b-cf9b-59ccba7dcb6c"
      },
      "execution_count": 35,
      "outputs": [
        {
          "output_type": "stream",
          "name": "stdout",
          "text": [
            "Student Dictionary: {'name': 'John', 'age': 25, 'city': 'Delhi'}\n"
          ]
        }
      ]
    },
    {
      "cell_type": "markdown",
      "source": [
        "22. Add \"country\": \"USA\" to dictionary {'name': 'John', 'age': 25}."
      ],
      "metadata": {
        "id": "jT5Kbpr9IDyh"
      }
    },
    {
      "cell_type": "code",
      "source": [
        "person = {'name': 'John', 'age': 25}\n",
        "person['country'] = 'USA'\n",
        "print(\"Updated Dictionary:\", person)\n"
      ],
      "metadata": {
        "colab": {
          "base_uri": "https://localhost:8080/"
        },
        "id": "Uxf8PvIJIEYI",
        "outputId": "4c72d6f3-5252-403b-c1ea-a97e2d000479"
      },
      "execution_count": 36,
      "outputs": [
        {
          "output_type": "stream",
          "name": "stdout",
          "text": [
            "Updated Dictionary: {'name': 'John', 'age': 25, 'country': 'USA'}\n"
          ]
        }
      ]
    },
    {
      "cell_type": "markdown",
      "source": [
        "23. Access \"name\" from {'name': 'Alice', 'age': 30}."
      ],
      "metadata": {
        "id": "g5POIkj_IHWR"
      }
    },
    {
      "cell_type": "code",
      "source": [
        "person = {'name': 'Alice', 'age': 30}\n",
        "print(\"Name:\", person['name'])\n"
      ],
      "metadata": {
        "colab": {
          "base_uri": "https://localhost:8080/"
        },
        "id": "OXJ90XtZIIFO",
        "outputId": "8d62211e-219a-479a-d42d-eb2c4c2fb8f2"
      },
      "execution_count": 37,
      "outputs": [
        {
          "output_type": "stream",
          "name": "stdout",
          "text": [
            "Name: Alice\n"
          ]
        }
      ]
    },
    {
      "cell_type": "markdown",
      "source": [
        "24. Remove \"age\" from {'name': 'Bob', 'age': 22, 'city': 'New York'}."
      ],
      "metadata": {
        "id": "oc441hziILCD"
      }
    },
    {
      "cell_type": "code",
      "source": [
        "person = {'name': 'Bob', 'age': 22, 'city': 'New York'}\n",
        "del person['age']\n",
        "print(\"After removing age:\", person)\n"
      ],
      "metadata": {
        "colab": {
          "base_uri": "https://localhost:8080/"
        },
        "id": "byJnfuTiILmJ",
        "outputId": "0127e79c-9468-4ea6-bab8-d2e185589571"
      },
      "execution_count": 38,
      "outputs": [
        {
          "output_type": "stream",
          "name": "stdout",
          "text": [
            "After removing age: {'name': 'Bob', 'city': 'New York'}\n"
          ]
        }
      ]
    },
    {
      "cell_type": "markdown",
      "source": [
        "25. Check if \"city\" exists in {'name': 'Alice', 'city': 'Paris'}."
      ],
      "metadata": {
        "id": "EnUH2oY0INXy"
      }
    },
    {
      "cell_type": "code",
      "source": [
        "person = {'name': 'Alice', 'city': 'Paris'}\n",
        "print(\"Is 'city' key present?\", 'city' in person)\n"
      ],
      "metadata": {
        "colab": {
          "base_uri": "https://localhost:8080/"
        },
        "id": "PX2tML29IQW5",
        "outputId": "7922cc7d-8df2-4104-cbf9-b67140bdd7fb"
      },
      "execution_count": 39,
      "outputs": [
        {
          "output_type": "stream",
          "name": "stdout",
          "text": [
            "Is 'city' key present? True\n"
          ]
        }
      ]
    },
    {
      "cell_type": "markdown",
      "source": [
        "26. Create a list, a tuple, and a dictionary and print them all."
      ],
      "metadata": {
        "id": "Igm-dbQvIUuC"
      }
    },
    {
      "cell_type": "code",
      "source": [
        "my_list = [1, 2, 3]\n",
        "my_tuple = (4, 5, 6)\n",
        "my_dict = {'a': 1, 'b': 2}\n",
        "print(\"List:\", my_list)\n",
        "print(\"Tuple:\", my_tuple)\n",
        "print(\"Dictionary:\", my_dict)\n"
      ],
      "metadata": {
        "colab": {
          "base_uri": "https://localhost:8080/"
        },
        "id": "-4zj_GEOIXPd",
        "outputId": "955220b7-3f5a-4cff-b88b-601f7fa61201"
      },
      "execution_count": 40,
      "outputs": [
        {
          "output_type": "stream",
          "name": "stdout",
          "text": [
            "List: [1, 2, 3]\n",
            "Tuple: (4, 5, 6)\n",
            "Dictionary: {'a': 1, 'b': 2}\n"
          ]
        }
      ]
    },
    {
      "cell_type": "markdown",
      "source": [
        "27. Create a list of 5 random numbers (1–100), sort, and print."
      ],
      "metadata": {
        "id": "V8zcYz-IIcAo"
      }
    },
    {
      "cell_type": "code",
      "source": [
        "import random\n",
        "numbers = random.sample(range(1, 101), 5)\n",
        "numbers.sort()\n",
        "print(\"Sorted Random Numbers:\", numbers)\n"
      ],
      "metadata": {
        "colab": {
          "base_uri": "https://localhost:8080/"
        },
        "id": "66ZZk_J_IcqZ",
        "outputId": "011d5dd1-1033-4497-d973-2b3e19836eb5"
      },
      "execution_count": 41,
      "outputs": [
        {
          "output_type": "stream",
          "name": "stdout",
          "text": [
            "Sorted Random Numbers: [16, 26, 37, 41, 70]\n"
          ]
        }
      ]
    },
    {
      "cell_type": "markdown",
      "source": [
        "28. Create a list with strings and print element at 3rd index."
      ],
      "metadata": {
        "id": "WzGn85zIIfAZ"
      }
    },
    {
      "cell_type": "code",
      "source": [
        "words = ['apple', 'banana', 'cherry', 'date', 'elderberry']\n",
        "print(\"Element at index 3:\", words[3])\n"
      ],
      "metadata": {
        "colab": {
          "base_uri": "https://localhost:8080/"
        },
        "id": "r9s_39lwIhN4",
        "outputId": "5fed69fe-22d3-4c08-cbb3-2cdee2bd0b4d"
      },
      "execution_count": 42,
      "outputs": [
        {
          "output_type": "stream",
          "name": "stdout",
          "text": [
            "Element at index 3: date\n"
          ]
        }
      ]
    },
    {
      "cell_type": "markdown",
      "source": [
        "29. Combine two dictionaries into one and print."
      ],
      "metadata": {
        "id": "pxv-G5QJIlGY"
      }
    },
    {
      "cell_type": "code",
      "source": [
        "dict1 = {'a': 1, 'b': 2}\n",
        "dict2 = {'c': 3, 'd': 4}\n",
        "combined = {**dict1, **dict2}\n",
        "print(\"Combined Dictionary:\", combined)\n"
      ],
      "metadata": {
        "colab": {
          "base_uri": "https://localhost:8080/"
        },
        "id": "N-ajH8-nIlrk",
        "outputId": "909bcf6e-b5cb-4364-b0e3-cf32a72da753"
      },
      "execution_count": 43,
      "outputs": [
        {
          "output_type": "stream",
          "name": "stdout",
          "text": [
            "Combined Dictionary: {'a': 1, 'b': 2, 'c': 3, 'd': 4}\n"
          ]
        }
      ]
    },
    {
      "cell_type": "markdown",
      "source": [
        "30. Convert a list of strings into a set."
      ],
      "metadata": {
        "id": "082wnLdQIoga"
      }
    },
    {
      "cell_type": "code",
      "source": [
        "words = ['apple', 'banana', 'apple', 'cherry']\n",
        "unique_words = set(words)\n",
        "print(\"Set:\", unique_words)\n"
      ],
      "metadata": {
        "colab": {
          "base_uri": "https://localhost:8080/"
        },
        "id": "BvZBJYVjIq3r",
        "outputId": "08e56f2c-4ea9-494f-de17-5733323fbdaa"
      },
      "execution_count": 44,
      "outputs": [
        {
          "output_type": "stream",
          "name": "stdout",
          "text": [
            "Set: {'cherry', 'banana', 'apple'}\n"
          ]
        }
      ]
    }
  ]
}