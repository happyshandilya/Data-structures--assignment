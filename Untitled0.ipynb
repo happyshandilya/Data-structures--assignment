{
  "nbformat": 4,
  "nbformat_minor": 0,
  "metadata": {
    "colab": {
      "provenance": []
    },
    "kernelspec": {
      "name": "python3",
      "display_name": "Python 3"
    },
    "language_info": {
      "name": "python"
    }
  },
  "cells": [
    {
      "cell_type": "code",
      "execution_count": null,
      "metadata": {
        "id": "SE7QepI9-7GV"
      },
      "outputs": [],
      "source": [
        "1.What is Object-Oriented Programming (OOP)?\n",
        "  - Object-Oriented Programming (OOP) is a programming paradigm that organizes code into objects which contain both data (attributes) and functions (methods) that operate on that data.\n",
        "OOP helps to write modular, reusable, and organized code, especially useful in large projects.\n",
        "\n",
        "  Key Features of OOP:\n",
        "\n",
        "     - Class: Blueprint for creating objects\n",
        "     - Object: Instance of a class\n",
        "     - Encapsulation: Hiding internal details\n",
        "     - Abstraction: Showing only necessary features\n",
        "     - Inheritance: Reusing code from one class in another\n",
        "     - Polymorphism: Ability to take many forms (method overloading/overriding)\n",
        "\n",
        "  Advantages of OOP:\n",
        "\n",
        "     - Code reusability through inheritance\n",
        "     - Makes code easy to debug and maintain\n",
        "     - Increases program modularity\n",
        "     - Real-world mapping using objects\n",
        "\n"
      ]
    },
    {
      "cell_type": "code",
      "source": [
        "class Student:\n",
        "    def __init__(self, name, grade):\n",
        "        self.name = name\n",
        "        self.grade = grade\n",
        "\n",
        "    def display(self):\n",
        "        print(f\"Name: {self.name}, Grade: {self.grade}\")\n",
        "\n",
        "# Creating an object\n",
        "s1 = Student(\"Vaibhav\", \"A\")\n",
        "s1.display()\n"
      ],
      "metadata": {
        "colab": {
          "base_uri": "https://localhost:8080/"
        },
        "id": "PI-rwAc6Asi6",
        "outputId": "cd45a2f1-699a-47cb-cbc9-641a12923be9"
      },
      "execution_count": 1,
      "outputs": [
        {
          "output_type": "stream",
          "name": "stdout",
          "text": [
            "Name: Vaibhav, Grade: A\n"
          ]
        }
      ]
    },
    {
      "cell_type": "markdown",
      "source": [
        " 2. What is a class in OOP?\n",
        "    - A class in Object-Oriented Programming is a blueprint or template for creating objects.\n",
        "\n",
        "    It defines\n",
        "      - Attributes (also called data members or variables), and\n",
        "      - Methods (functions that operate on the data).\n",
        "    Objects are created from classes using the constructor."
      ],
      "metadata": {
        "id": "u83Zfly0BKea"
      }
    },
    {
      "cell_type": "code",
      "source": [
        "# Syntax of a class in Python\n",
        "class ClassName:\n",
        "    def __init__(self, attr1, attr2):\n",
        "        self.attr1 = attr1\n",
        "        self.attr2 = attr2\n"
      ],
      "metadata": {
        "id": "ktMvFzKHCBPv"
      },
      "execution_count": 4,
      "outputs": []
    },
    {
      "cell_type": "code",
      "source": [
        "class Car:\n",
        "    def __init__(self, brand, model):\n",
        "        self.brand = brand\n",
        "        self.model = model\n",
        "\n",
        "    def show_details(self):\n",
        "        print(f\"Brand: {self.brand}, Model: {self.model}\")\n",
        "\n",
        "car1 = Car(\"Toyota\", \"Fortuner\")\n",
        "car1.show_details()\n"
      ],
      "metadata": {
        "colab": {
          "base_uri": "https://localhost:8080/"
        },
        "id": "fDBp4CRwCCQF",
        "outputId": "0bba7a1d-ffdf-40dc-9728-74f8425ab099"
      },
      "execution_count": 3,
      "outputs": [
        {
          "output_type": "stream",
          "name": "stdout",
          "text": [
            "Brand: Toyota, Model: Fortuner\n"
          ]
        }
      ]
    },
    {
      "cell_type": "markdown",
      "source": [
        "3. What is an object in OOP?\n",
        "   - An object in Object-Oriented Programming (OOP) is an instance of a class.\n",
        "It contains data (attributes) and behavior (methods) defined in the class.\n",
        "Objects allow code to be more modular, reusable, and easier to understand.\n"
      ],
      "metadata": {
        "id": "MAnOIKtyFhL7"
      }
    },
    {
      "cell_type": "code",
      "source": [
        "# Creating a class\n",
        "class Person:\n",
        "    def __init__(self, name, age):\n",
        "        self.name = name\n",
        "        self.age = age\n",
        "\n",
        "    def greet(self):\n",
        "        print(f\"Hello, my name is {self.name} and I am {self.age} years old.\")\n",
        "\n",
        "# Creating an object of the class\n",
        "person1 = Person(\"Vaibhav\", 27)\n",
        "\n",
        "# Accessing method through object\n",
        "person1.greet()\n"
      ],
      "metadata": {
        "colab": {
          "base_uri": "https://localhost:8080/"
        },
        "id": "GrT7fQ_YG3Bu",
        "outputId": "a2ed60e4-a7b9-49ae-c5f1-4f565cb5e95a"
      },
      "execution_count": 5,
      "outputs": [
        {
          "output_type": "stream",
          "name": "stdout",
          "text": [
            "Hello, my name is Vaibhav and I am 27 years old.\n"
          ]
        }
      ]
    },
    {
      "cell_type": "markdown",
      "source": [
        "4. What is the difference between Abstraction and Encapsulation?\n",
        "   - ### 4. What is the difference between Abstraction and Encapsulation?\n",
        "\n",
        "| Feature               | Abstraction                                                       | Encapsulation                                                    |\n",
        "|------------------------|-------------------------------------------------------------------|------------------------------------------------------------------|\n",
        "| **Definition**        | It hides unnecessary implementation details and shows only the essential features of an object. | It binds data and methods together and restricts direct access to internal data. |\n",
        "| **Purpose**           | Focuses on **what** an object does.                              | Focuses on **how** the object hides data from external access.   |\n",
        "| **Implementation**    | Achieved using **abstract classes** and **interfaces**.           | Achieved using **access modifiers** (private, public, protected).|\n",
        "| **Real-Life Example** | A user uses a TV remote without knowing its internal wiring.      | A capsule hides the medicine inside a cover.                     |\n",
        "| **Python Example**    | Use of `@abstractmethod` in abstract base classes.                | Use of double underscore `__` to make data private.              |\n"
      ],
      "metadata": {
        "id": "Lb80XqxjHO_j"
      }
    },
    {
      "cell_type": "code",
      "source": [
        "from abc import ABC, abstractmethod\n",
        "\n",
        "# Abstract class\n",
        "class Animal(ABC):\n",
        "    @abstractmethod\n",
        "    def sound(self):\n",
        "        pass\n",
        "\n",
        "# Subclass implementing abstract method\n",
        "class Dog(Animal):\n",
        "    def sound(self):\n",
        "        return \"Bark\"\n",
        "\n",
        "dog = Dog()\n",
        "print(dog.sound())\n"
      ],
      "metadata": {
        "colab": {
          "base_uri": "https://localhost:8080/"
        },
        "id": "FuzRVhOoHW_D",
        "outputId": "99cf0b6d-6e35-4190-fead-5b65aced4588"
      },
      "execution_count": 6,
      "outputs": [
        {
          "output_type": "stream",
          "name": "stdout",
          "text": [
            "Bark\n"
          ]
        }
      ]
    },
    {
      "cell_type": "code",
      "source": [
        "class Account:\n",
        "    def __init__(self, balance):\n",
        "        self.__balance = balance  # private variable\n",
        "\n",
        "    def get_balance(self):\n",
        "        return self.__balance\n",
        "\n",
        "    def deposit(self, amount):\n",
        "        if amount > 0:\n",
        "            self.__balance += amount\n",
        "\n",
        "acc = Account(1000)\n",
        "acc.deposit(500)\n",
        "print(\"Updated Balance:\", acc.get_balance())\n"
      ],
      "metadata": {
        "colab": {
          "base_uri": "https://localhost:8080/"
        },
        "id": "knalXbX_HYZs",
        "outputId": "3906c098-e9d5-4fbf-ad10-9861db2c460d"
      },
      "execution_count": 7,
      "outputs": [
        {
          "output_type": "stream",
          "name": "stdout",
          "text": [
            "Updated Balance: 1500\n"
          ]
        }
      ]
    },
    {
      "cell_type": "markdown",
      "source": [
        "5. What are Dunder Methods in Python?\n",
        "   - **Dunder methods** (short for \"Double UNDERscore\") are special methods in Python that begin and end with double underscores, like `__init__`, `__str__`, `__len__`, etc.\n",
        "\n",
        "These are also called **magic methods** because Python calls them automatically when certain operations are performed.\n",
        "\n",
        " **Purpose of Dunder Methods:**\n",
        "Dunder methods allow us to customize the behavior of our objects with:\n",
        "- Built-in functions (`len()`, `str()`, `print()`, etc.)\n",
        "- Operators (`+`, `-`, `==`, etc.)\n",
        "\n",
        "  **Common Dunder Methods:**\n",
        "- `__init__(self, ...)` → Called when an object is created (Constructor).\n",
        "- `__str__(self)` → Returns a string representation of the object (used in `print()`).\n",
        "- `__len__(self)` → Called when `len()` is used on an object.\n",
        "- `__add__(self, other)` → Defines behavior for `+` operator.\n",
        "\n",
        " **Summary:**\n",
        "Dunder methods make user-defined classes behave like built-in types, providing clean and Pythonic syntax.\n",
        "\n",
        "\n"
      ],
      "metadata": {
        "id": "UYnTaJzqH5Bs"
      }
    },
    {
      "cell_type": "code",
      "source": [
        "class Book:\n",
        "    def __init__(self, title):\n",
        "        self.title = title\n",
        "\n",
        "    def __str__(self):\n",
        "        return f\"Book Title: {self.title}\"\n",
        "\n",
        "# Creating object of class Book\n",
        "book = Book(\"Python Basics\")\n",
        "\n",
        "# Printing the object (calls __str__ method internally)\n",
        "print(book)\n"
      ],
      "metadata": {
        "colab": {
          "base_uri": "https://localhost:8080/"
        },
        "id": "3_gu6cjOIvd6",
        "outputId": "1524a98b-be0b-434c-dfbe-cbd011622be4"
      },
      "execution_count": 8,
      "outputs": [
        {
          "output_type": "stream",
          "name": "stdout",
          "text": [
            "Book Title: Python Basics\n"
          ]
        }
      ]
    },
    {
      "cell_type": "markdown",
      "source": [
        "6. Explain the concept of Inheritance in OOP.\n",
        "   - Inheritance is one of the core concepts of Object-Oriented Programming (OOP).\n",
        "It allows a child class (also called derived class) to inherit the attributes and methods from a parent class (also called base class).\n",
        "\n",
        "This helps in code reusability, organization, and extending existing functionality without modifying the original class.\n",
        "\n",
        " **Types of Inheritance in Python**:\n",
        "  -   Single Inheritance – One child class inherits from one parent class.\n",
        "  -   Multiple Inheritance – One child class inherits from multiple parent\n",
        "        classes.\n",
        "  -   Multilevel Inheritance – A class inherits from a derived class, forming a\n",
        "        chain.\n",
        "  -   Hierarchical Inheritance – Multiple child classes inherit from a single\n",
        "        parent class.\n",
        "  -   Hybrid Inheritance – Combination of two or more types of inheritance.\n",
        "  "
      ],
      "metadata": {
        "id": "uSiM-bsONhDs"
      }
    },
    {
      "cell_type": "code",
      "source": [
        "# Base class (Parent)\n",
        "class Animal:\n",
        "    def speak(self):\n",
        "        print(\"Animal speaks\")\n",
        "\n",
        "# Derived class (Child)\n",
        "class Dog(Animal):\n",
        "    def bark(self):\n",
        "        print(\"Dog barks\")\n",
        "\n",
        "# Creating object of Dog\n",
        "d = Dog()\n",
        "d.speak()   # Inherited from Animal\n",
        "d.bark()    # Own method of Dog\n"
      ],
      "metadata": {
        "colab": {
          "base_uri": "https://localhost:8080/"
        },
        "id": "DtuGaF-9OFOq",
        "outputId": "995d9796-e833-4156-ab57-f501cfb74091"
      },
      "execution_count": 9,
      "outputs": [
        {
          "output_type": "stream",
          "name": "stdout",
          "text": [
            "Animal speaks\n",
            "Dog barks\n"
          ]
        }
      ]
    },
    {
      "cell_type": "markdown",
      "source": [
        "7. What is Polymorphism in OOP?\n",
        "   - Polymorphism means \"many forms\". In Object-Oriented Programming (OOP), it refers to the ability of different classes to provide a different implementation of the same method or function.\n",
        "\n",
        "Polymorphism allows us to define methods in the child class with the same name as defined in their parent class, but with different behavior.\n",
        "\n",
        "**There are two main types of polymorphism:**\n",
        "\n",
        " -  Compile-time Polymorphism (Method Overloading) - Not directly supported in\n",
        "     Python.\n",
        "  - Run-time Polymorphism (Method Overriding) - Commonly used in Python.\n",
        "\n"
      ],
      "metadata": {
        "id": "OcOKwMMVO0z5"
      }
    },
    {
      "cell_type": "code",
      "source": [
        "class Animal:\n",
        "    def sound(self):\n",
        "        print(\"Animal makes a sound\")\n",
        "\n",
        "class Dog(Animal):\n",
        "    def sound(self):\n",
        "        print(\"Dog barks\")\n",
        "\n",
        "class Cat(Animal):\n",
        "    def sound(self):\n",
        "        print(\"Cat meows\")\n",
        "\n",
        "# Using polymorphism\n",
        "def make_sound(animal):\n",
        "    animal.sound()\n",
        "\n",
        "d = Dog()\n",
        "c = Cat()\n",
        "\n",
        "make_sound(d)\n",
        "make_sound(c)\n"
      ],
      "metadata": {
        "colab": {
          "base_uri": "https://localhost:8080/"
        },
        "id": "EJT5MBGgQDzT",
        "outputId": "82ace1e6-e8a2-4c21-8148-a69e18b5b43e"
      },
      "execution_count": 10,
      "outputs": [
        {
          "output_type": "stream",
          "name": "stdout",
          "text": [
            "Dog barks\n",
            "Cat meows\n"
          ]
        }
      ]
    },
    {
      "cell_type": "markdown",
      "source": [
        "8. How is Encapsulation Achieved in Python?\n",
        "   - Encapsulation is the concept of hiding the internal state (data) of an object and restricting direct access to it. It allows us to control how data is accessed or modified.\n",
        "\n",
        "**In Python, encapsulation is achieved using:**\n",
        "\n",
        "  **Access Modifiers:**\n",
        "     - Public Members\n",
        "     - Accessible from anywhere.\n",
        "     - Defined normally.\n",
        "\n",
        "Example: self.name\n",
        "\n",
        "**Protected Members**\n",
        "   - Meant to be used within the class and its subclasses.\n",
        "   - Prefix with a single underscore _.\n",
        "\n",
        "Example: self._salary\n",
        "\n",
        "**Private Members**\n",
        "  - Cannot be accessed directly outside the class.\n",
        "  - Prefix with double underscore __.\n",
        "  \n",
        "Example: self.__password"
      ],
      "metadata": {
        "id": "BCsSuznuQhyN"
      }
    },
    {
      "cell_type": "code",
      "source": [
        "class Employee:\n",
        "    def __init__(self, name, salary):\n",
        "        self.name = name           # Public\n",
        "        self._salary = salary      # Protected\n",
        "        self.__password = \"secret\" # Private\n",
        "\n",
        "    def show_info(self):\n",
        "        print(\"Name:\", self.name)\n",
        "        print(\"Salary:\", self._salary)\n",
        "        print(\"Password:\", self.__password)\n",
        "\n",
        "emp = Employee(\"John\", 50000)\n",
        "emp.show_info()\n",
        "\n",
        "# Direct access\n",
        "print(emp.name)         # ✅ Works\n",
        "print(emp._salary)      # ⚠️ Works (not recommended)\n",
        "# print(emp.__password) # ❌ Error\n"
      ],
      "metadata": {
        "colab": {
          "base_uri": "https://localhost:8080/"
        },
        "id": "3H_XaxrURUiy",
        "outputId": "842e299c-771d-4f2a-dc59-cdefb2615949"
      },
      "execution_count": 11,
      "outputs": [
        {
          "output_type": "stream",
          "name": "stdout",
          "text": [
            "Name: John\n",
            "Salary: 50000\n",
            "Password: secret\n",
            "John\n",
            "50000\n"
          ]
        }
      ]
    },
    {
      "cell_type": "markdown",
      "source": [
        "9. What is a Constructor in Python?\n",
        "   - A constructor in Python is a special method used to initialize the objects of a class when they are created.\n",
        "It automatically runs when you create an object from a class.\n",
        "\n",
        "**In Python, the constructor method is:**\n",
        " __init__(self)\n",
        " - It starts and sets up the object.\n",
        " - It can accept parameters to assign values at the time of object creation.\n",
        "\n",
        "\n"
      ],
      "metadata": {
        "id": "LdrhSMYlR9q6"
      }
    },
    {
      "cell_type": "code",
      "source": [
        "class Person:\n",
        "    def __init__(self, name, age):  # Constructor\n",
        "        self.name = name\n",
        "        self.age = age\n",
        "\n",
        "    def show(self):\n",
        "        print(\"Name:\", self.name)\n",
        "        print(\"Age:\", self.age)\n",
        "\n",
        "# Creating object of class Person\n",
        "p1 = Person(\"Alice\", 25)\n",
        "p1.show()\n"
      ],
      "metadata": {
        "colab": {
          "base_uri": "https://localhost:8080/"
        },
        "id": "zakzt3YeSUqZ",
        "outputId": "1f658623-33f8-44cb-ad47-9275f1b88579"
      },
      "execution_count": 12,
      "outputs": [
        {
          "output_type": "stream",
          "name": "stdout",
          "text": [
            "Name: Alice\n",
            "Age: 25\n"
          ]
        }
      ]
    },
    {
      "cell_type": "markdown",
      "source": [
        "10. What are Class and Static Methods in Python?\n",
        "    - In Python, both class methods and static methods are used within a class but serve different purposes. Let’s understand them one by one:\n",
        "\n",
        "   ** Class Method:**\n",
        "   \n",
        "   -  A class method is bound to the class, not the object.\n",
        "\n",
        "   - It can access and modify class-level attributes.\n",
        "\n",
        "   - It takes cls as the first parameter.\n",
        "\n",
        "   - Defined using the @classmethod decorator."
      ],
      "metadata": {
        "id": "4rwL_FfCSZG5"
      }
    },
    {
      "cell_type": "code",
      "source": [
        "class School:\n",
        "    school_name = \"Green Valley School\"\n",
        "\n",
        "    @classmethod\n",
        "    def change_school_name(cls, new_name):\n",
        "        cls.school_name = new_name\n",
        "\n",
        "# Access class method\n",
        "School.change_school_name(\"Blue Hill School\")\n",
        "print(School.school_name)  # Output: Blue Hill School\n"
      ],
      "metadata": {
        "colab": {
          "base_uri": "https://localhost:8080/"
        },
        "id": "sZ7rLIPlTIIJ",
        "outputId": "a00ea6d0-d63c-4389-c40a-7402fbf60b11"
      },
      "execution_count": 13,
      "outputs": [
        {
          "output_type": "stream",
          "name": "stdout",
          "text": [
            "Blue Hill School\n"
          ]
        }
      ]
    },
    {
      "cell_type": "markdown",
      "source": [
        " **Static Method:**\n",
        "   - A static method doesn't take self or cls as a parameter.\n",
        "\n",
        "   - It doesn’t access or modify class or instance data.\n",
        "\n",
        "   - Used for utility/helper functions related to the class.\n",
        "\n",
        "   - Defined using the @staticmethod decorator."
      ],
      "metadata": {
        "id": "puIGi0T-TMSy"
      }
    },
    {
      "cell_type": "code",
      "source": [
        "class MathOperations:\n",
        "\n",
        "    @staticmethod\n",
        "    def add(a, b):\n",
        "        return a + b\n",
        "\n",
        "# Access static method\n",
        "print(MathOperations.add(10, 5))  # Output: 15\n"
      ],
      "metadata": {
        "colab": {
          "base_uri": "https://localhost:8080/"
        },
        "id": "zYUgei6_TZ1i",
        "outputId": "ad822fb5-dcaf-46dc-d6ec-649e1c946636"
      },
      "execution_count": 14,
      "outputs": [
        {
          "output_type": "stream",
          "name": "stdout",
          "text": [
            "15\n"
          ]
        }
      ]
    },
    {
      "cell_type": "markdown",
      "source": [
        "| Feature           | Instance Method | Class Method     | Static Method    |\n",
        "|-------------------|------------------|-------------------|------------------|\n",
        "| First Argument     | `self`           | `cls`             | None             |\n",
        "| Access Instance?   | ✅ Yes           | ❌ No             | ❌ No            |\n",
        "| Access Class?      | ✅ Yes           | ✅ Yes            | ❌ No            |\n",
        "| Decorator Used     | *(None)*         | `@classmethod`    | `@staticmethod`  |\n"
      ],
      "metadata": {
        "id": "4fL9f7yuUFgp"
      }
    },
    {
      "cell_type": "markdown",
      "source": [
        "11. What is Method Overloading in Python?\n",
        "    - Method Overloading means defining multiple methods with the same name but different parameters.\n",
        "    \n",
        "    However, Python does not support traditional method overloading like Java or C++.\n",
        "In Python, if you define multiple methods with the same name, the latest definition will override the previous ones.\n",
        "\n",
        "**How is it handled in Python?**\n",
        "  Python can simulate method overloading by using default arguments or *args and **kwargs."
      ],
      "metadata": {
        "id": "3i1MCdMhVRFL"
      }
    },
    {
      "cell_type": "code",
      "source": [
        "class Greet:\n",
        "    def hello(self, name=None):\n",
        "        if name:\n",
        "            print(\"Hello\", name)\n",
        "        else:\n",
        "            print(\"Hello!\")\n",
        "\n",
        "# Creating object\n",
        "obj = Greet()\n",
        "\n",
        "obj.hello()         # Output: Hello!\n",
        "obj.hello(\"Alice\")  # Output: Hello Alice\n"
      ],
      "metadata": {
        "colab": {
          "base_uri": "https://localhost:8080/"
        },
        "id": "D_unU41AVmCP",
        "outputId": "c6ca2bc1-3a29-42e7-98f9-b48bdfa342f3"
      },
      "execution_count": 15,
      "outputs": [
        {
          "output_type": "stream",
          "name": "stdout",
          "text": [
            "Hello!\n",
            "Hello Alice\n"
          ]
        }
      ]
    },
    {
      "cell_type": "markdown",
      "source": [
        "**Explanation:**\n",
        "Even though there's only one method named hello(), it behaves differently based on whether a name is passed or not.\n",
        "\n",
        "This is Python's way of mimicking method overloading.\n",
        "\n",
        "**Key Point:**\n",
        "Python does not support method overloading natively.\n",
        "But you can achieve similar behavior using default arguments, *args, and **kwargs."
      ],
      "metadata": {
        "id": "hdgfYaEVVsqD"
      }
    },
    {
      "cell_type": "markdown",
      "source": [
        "12. What is Method Overriding in OOP?\n",
        "    - Method Overriding is an object-oriented programming concept where a child (subclass) defines a method with the same name as a method in its parent (superclass).\n",
        "\n",
        "     It allows the child class to modify or completely change the behavior of a method that it inherits from the parent class.\n",
        "\n",
        "   **  Key Points:**\n",
        "   \n",
        "    - Method name must be the same in parent and child class.\n",
        "\n",
        "    - The child class overrides the functionality of the parent class method.\n",
        "\n",
        "    - It enables polymorphism in OOP.\n",
        "\n"
      ],
      "metadata": {
        "id": "7JCheiLXWb6x"
      }
    },
    {
      "cell_type": "code",
      "source": [
        "class Animal:\n",
        "    def sound(self):\n",
        "        print(\"Animal makes a sound\")\n",
        "\n",
        "class Dog(Animal):\n",
        "    def sound(self):\n",
        "        print(\"Dog barks\")\n",
        "\n",
        "# Creating objects\n",
        "a = Animal()\n",
        "d = Dog()\n",
        "\n",
        "a.sound()  # Output: Animal makes a sound\n",
        "d.sound()  # Output: Dog barks (method is overridden)\n"
      ],
      "metadata": {
        "colab": {
          "base_uri": "https://localhost:8080/"
        },
        "id": "VIESO3fTWyzy",
        "outputId": "d65db162-44c0-4419-8043-6e45378e71b9"
      },
      "execution_count": 16,
      "outputs": [
        {
          "output_type": "stream",
          "name": "stdout",
          "text": [
            "Animal makes a sound\n",
            "Dog barks\n"
          ]
        }
      ]
    },
    {
      "cell_type": "markdown",
      "source": [
        "**Explanation:**\n",
        "    - Animal class has a method sound().\n",
        "\n",
        "   -  Dog class inherits from Animal but overrides the sound() method.\n",
        "\n",
        "   -  So, when we call d.sound(), it uses the Dog class's version of the method."
      ],
      "metadata": {
        "id": "WNj0U09JW4D4"
      }
    },
    {
      "cell_type": "markdown",
      "source": [
        "13. What is a Property Decorator in Python?\n",
        "    - In Python, the @property decorator is used to define a method that can be accessed like an attribute, without calling it like a function.\n",
        "\n",
        "     It helps implement getter, setter, and deleter functions for class attributes in a clean and Pythonic way.\n",
        "**Why use @property?**\n",
        "    - To access method logic like an attribute.\n",
        "    - To control how a class attribute is read or modified.\n",
        "    - To make class code more readable and secure."
      ],
      "metadata": {
        "id": "eq-gmV4tXCif"
      }
    },
    {
      "cell_type": "code",
      "source": [
        "class Circle:\n",
        "    def __init__(self, radius):\n",
        "        self._radius = radius\n",
        "\n",
        "    @property\n",
        "    def radius(self):\n",
        "        return self._radius\n",
        "\n",
        "    @radius.setter\n",
        "    def radius(self, value):\n",
        "        if value >= 0:\n",
        "            self._radius = value\n",
        "        else:\n",
        "            raise ValueError(\"Radius cannot be negative\")\n",
        "\n",
        "# Using the property\n",
        "c = Circle(5)\n",
        "print(c.radius)     # Accessing like an attribute → Output: 5\n",
        "c.radius = 10       # Modifying like an attribute\n",
        "print(c.radius)     # Output: 10\n"
      ],
      "metadata": {
        "colab": {
          "base_uri": "https://localhost:8080/"
        },
        "id": "MOOTs_5aZylq",
        "outputId": "9e64a237-fe3a-4341-f08c-1940cb98e686"
      },
      "execution_count": 17,
      "outputs": [
        {
          "output_type": "stream",
          "name": "stdout",
          "text": [
            "5\n",
            "10\n"
          ]
        }
      ]
    },
    {
      "cell_type": "markdown",
      "source": [
        "** Explanation:**\n",
        "\n",
        "  - @property makes the method radius() behave like an attribute.\n",
        "  - @radius.setter allows setting the value with validation logic.\n",
        "  - Without needing to call get_radius() or set_radius(), the interface becomes\n",
        "  cleaner.\n",
        "\n",
        "  "
      ],
      "metadata": {
        "id": "Nd6EKPZwZ4Ox"
      }
    },
    {
      "cell_type": "markdown",
      "source": [
        "| **Decorator**     | **Purpose**                          | **Usage Example**       |\n",
        "| ----------------- | ------------------------------------ | ----------------------- |\n",
        "| `@property`       | To get the value (getter)            | `obj.value`             |\n",
        "| `@<name>.setter`  | To set the value with logic (setter) | `obj.value = new_value` |\n",
        "| `@<name>.deleter` | To delete the attribute (optional)   | `del obj.value`         |\n"
      ],
      "metadata": {
        "id": "FpaxjjXfa68Q"
      }
    },
    {
      "cell_type": "markdown",
      "source": [
        "14. Why is Polymorphism Important in OOP?\n",
        "     - **Polymorphism** means \"many forms\". In Object-Oriented Programming (OOP), polymorphism allows **the same method name** to behave **differently** based on the object calling it.\n",
        "\n",
        "It enables code that works on the **superclass level** to also work with any subclass object — making the code **flexible and reusable**.\n",
        "\n",
        "\n",
        "\n",
        " Importance of Polymorphism:\n",
        "\n",
        "| **Reason**              | **Explanation**                                                                 |\n",
        "|--------------------------|----------------------------------------------------------------------------------|\n",
        "| Code Reusability         | Use the same method name for different behaviors in different classes           |\n",
        "| Scalability              | New features can be added without changing existing code                        |\n",
        "| Flexibility              | Functions or methods can take objects of different classes                      |\n",
        "| Better Readability       | Cleaner and intuitive interface using a common method name                      |\n",
        "\n",
        "---\n",
        "\n",
        "**Example:**\n"
      ],
      "metadata": {
        "id": "XxFtgDcObAfR"
      }
    },
    {
      "cell_type": "code",
      "source": [
        "class Animal:\n",
        "    def speak(self):\n",
        "        print(\"Animal speaks\")\n",
        "\n",
        "class Dog(Animal):\n",
        "    def speak(self):\n",
        "        print(\"Dog barks\")\n",
        "\n",
        "class Cat(Animal):\n",
        "    def speak(self):\n",
        "        print(\"Cat meows\")\n",
        "\n",
        "# Polymorphism in action\n",
        "def animal_sound(animal):\n",
        "    animal.speak()\n",
        "\n",
        "# Create objects\n",
        "a = Dog()\n",
        "b = Cat()\n",
        "\n",
        "animal_sound(a)   # Output: Dog barks\n",
        "animal_sound(b)   # Output: Cat meows\n"
      ],
      "metadata": {
        "colab": {
          "base_uri": "https://localhost:8080/"
        },
        "id": "_l6mnSRJe-nv",
        "outputId": "04537d2f-6fa8-4f5a-8e6e-13109cdfb9f6"
      },
      "execution_count": 20,
      "outputs": [
        {
          "output_type": "stream",
          "name": "stdout",
          "text": [
            "Dog barks\n",
            "Cat meows\n"
          ]
        }
      ]
    },
    {
      "cell_type": "markdown",
      "source": [
        "15. What is an Abstract Class in Python?\n",
        "    - An **abstract class** in Python is a class that cannot be instantiated directly. It is meant to be **inherited** by other classes, which then **implement the abstract methods** defined in the abstract class.\n",
        "\n",
        "Abstract classes are defined using the `abc` (Abstract Base Class) module.  \n",
        "They help enforce a certain structure in derived classes.\n",
        "\n",
        " Why use Abstract Classes?\n",
        "- To **define a blueprint** for future subclasses.\n",
        "- To ensure **certain methods are implemented** in all subclasses.\n"
      ],
      "metadata": {
        "id": "ywvYNAAlfDCa"
      }
    },
    {
      "cell_type": "markdown",
      "source": [
        " Summary Table: Abstract Classes\n",
        "\n",
        "| Feature              | Description                                                          |\n",
        "|----------------------|----------------------------------------------------------------------|\n",
        "| Purpose              | To define common interface for all subclasses                        |\n",
        "| Instantiation        | Cannot create object directly from an abstract class                 |\n",
        "| Usage                | Use `abc.ABC` and `@abstractmethod` decorators                       |\n",
        "| Benefit              | Helps in creating **structured and maintainable** code               |\n"
      ],
      "metadata": {
        "id": "frCdqxPgfetp"
      }
    },
    {
      "cell_type": "code",
      "source": [
        "from abc import ABC, abstractmethod\n",
        "\n",
        "class Vehicle(ABC):\n",
        "    @abstractmethod\n",
        "    def start(self):\n",
        "        pass\n",
        "\n",
        "class Car(Vehicle):\n",
        "    def start(self):\n",
        "        print(\"Car started\")\n",
        "\n",
        "class Bike(Vehicle):\n",
        "    def start(self):\n",
        "        print(\"Bike started\")\n",
        "\n",
        "# v = Vehicle()  # ❌ Error: Can't instantiate abstract class\n",
        "c = Car()\n",
        "b = Bike()\n",
        "\n",
        "c.start()  # Output: Car started\n",
        "b.start()  # Output: Bike started\n"
      ],
      "metadata": {
        "colab": {
          "base_uri": "https://localhost:8080/"
        },
        "id": "2QDj92eMfiJ-",
        "outputId": "1176fd66-9657-4cc5-d6e9-b9d8e426d58a"
      },
      "execution_count": 21,
      "outputs": [
        {
          "output_type": "stream",
          "name": "stdout",
          "text": [
            "Car started\n",
            "Bike started\n"
          ]
        }
      ]
    },
    {
      "cell_type": "markdown",
      "source": [
        "16. What are the Advantages of Object-Oriented Programming (OOP)?\n",
        "   - Object-Oriented Programming (OOP) offers several advantages that make it ideal for building scalable, maintainable, and reusable software systems.\n",
        "\n",
        "**Key Advantages:**\n",
        "\n",
        "1. **Modularity**: Code is divided into classes and objects, making it more organized and manageable.\n",
        "\n",
        "2. **Reusability**: Classes and objects can be reused across different programs or parts of the same program.\n",
        "\n",
        "3. **Encapsulation**: Data and methods are bundled together, improving security and preventing unintended access.\n",
        "\n",
        "4. **Inheritance**: New classes can be created from existing ones, reducing code duplication.\n",
        "\n",
        "5. **Polymorphism**: Same method names can behave differently based on the object calling them.\n",
        "\n",
        "6. **Maintainability**: Code is easier to update and debug due to clear structure and modularity.\n",
        "\n",
        "7. **Scalability**: OOP makes it easier to expand and upgrade software as the system grows.\n",
        "\n",
        "    -"
      ],
      "metadata": {
        "id": "jxRXMsF7fp2K"
      }
    },
    {
      "cell_type": "markdown",
      "source": [
        "Summary Table: Advantages of OOP\n",
        "\n",
        "| Advantage       | Description                                                  |\n",
        "|-----------------|--------------------------------------------------------------|\n",
        "| Modularity      | Programs are divided into smaller parts (classes/objects)    |\n",
        "| Reusability     | Code can be reused using classes and inheritance             |\n",
        "| Encapsulation   | Protects data and hides internal implementation              |\n",
        "| Inheritance     | Reduces redundancy by reusing code in derived classes        |\n",
        "| Polymorphism    | Same interface, different behavior                           |\n",
        "| Maintainability | Easier to debug, update, and scale the codebase              |\n",
        "| Scalability     | Systems can grow more easily with structured code            |\n"
      ],
      "metadata": {
        "id": "Q7RiTl3BgQQY"
      }
    },
    {
      "cell_type": "markdown",
      "source": [
        "17. What is the Difference Between a Class Variable and an Instance Variable?\n",
        "\n",
        "In Python's Object-Oriented Programming, **variables** can be defined in two main ways:\n",
        "\n",
        "---\n",
        "\n",
        " **Class Variable:**\n",
        "- A variable that is shared among all objects (instances) of a class.\n",
        "- Declared inside the class, but **outside any method**.\n",
        "- Changing its value affects all instances.\n",
        "\n",
        " **Instance Variable:**\n",
        "- A variable that is **unique to each object** (instance).\n",
        "- Declared inside the `__init__()` constructor using `self`.\n",
        "- Changing its value affects only that specific object."
      ],
      "metadata": {
        "id": "gpTQFD5Ogsms"
      }
    },
    {
      "cell_type": "markdown",
      "source": [
        "Summary Table: Class vs Instance Variables\n",
        "\n",
        "| Feature             | Class Variable                        | Instance Variable                    |\n",
        "|---------------------|----------------------------------------|--------------------------------------|\n",
        "| Scope               | Shared among all instances            | Unique to each instance              |\n",
        "| Defined In          | Inside class but outside methods      | Inside `__init__()` with `self`      |\n",
        "| Affected When Changed | All instances                       | Only the calling instance            |\n",
        "| Accessed With       | Class name or instance                | Only with the instance (`self`)      |\n"
      ],
      "metadata": {
        "id": "xyxA1ftAg5qQ"
      }
    },
    {
      "cell_type": "code",
      "source": [
        "class Student:\n",
        "    # Class Variable\n",
        "    school = \"ABC High School\"\n",
        "\n",
        "    def __init__(self, name):\n",
        "        # Instance Variable\n",
        "        self.name = name\n",
        "\n",
        "# Create two objects\n",
        "s1 = Student(\"Alice\")\n",
        "s2 = Student(\"Bob\")\n",
        "\n",
        "# Accessing class and instance variables\n",
        "print(s1.name)       # Output: Alice\n",
        "print(s2.name)       # Output: Bob\n",
        "print(s1.school)     # Output: ABC High School\n",
        "print(s2.school)     # Output: ABC High School\n",
        "\n",
        "# Changing class variable\n",
        "Student.school = \"XYZ School\"\n",
        "print(s1.school)     # Output: XYZ School\n",
        "print(s2.school)     # Output: XYZ School\n"
      ],
      "metadata": {
        "colab": {
          "base_uri": "https://localhost:8080/"
        },
        "id": "a1PaYn6Dg-cB",
        "outputId": "a67e1f49-d28d-461e-c18b-94861bc3a6ca"
      },
      "execution_count": 23,
      "outputs": [
        {
          "output_type": "stream",
          "name": "stdout",
          "text": [
            "Alice\n",
            "Bob\n",
            "ABC High School\n",
            "ABC High School\n",
            "XYZ School\n",
            "XYZ School\n"
          ]
        }
      ]
    },
    {
      "cell_type": "markdown",
      "source": [
        "18. What is Multiple Inheritance in Python?\n",
        "    - **Multiple Inheritance** is a feature of Object-Oriented Programming in which a class can inherit attributes and methods from **more than one parent class**.\n",
        "\n",
        "In Python, a child class can inherit from **two or more classes** by specifying all parent classes in parentheses.\n",
        "\n",
        " Why Use Multiple Inheritance?\n",
        "- It allows combining functionalities from multiple classes.\n",
        "- Promotes code reusability.\n",
        "\n",
        "  Note:\n",
        "Python uses the **Method Resolution Order (MRO)** to decide which method to call first when multiple classes have methods with the same name.\n"
      ],
      "metadata": {
        "id": "rS6_EWIUhPQh"
      }
    },
    {
      "cell_type": "markdown",
      "source": [
        " Summary Table: Multiple Inheritance\n",
        "\n",
        "| Feature              | Description                                                  |\n",
        "|----------------------|--------------------------------------------------------------|\n",
        "| Definition           | Inheriting from more than one parent class                   |\n",
        "| Syntax               | `class C(A, B):` where A and B are parent classes            |\n",
        "| Benefit              | Reuse code from multiple sources                             |\n",
        "| Caution              | Conflicts can arise if parents have same method names        |\n",
        "| MRO (Method Order)   | Python resolves conflict using C3 Linearization (MRO)        |\n"
      ],
      "metadata": {
        "id": "k5dtVyS1hsIn"
      }
    },
    {
      "cell_type": "code",
      "source": [
        "class Father:\n",
        "    def skills(self):\n",
        "        print(\"Father: Cooking, Driving\")\n",
        "\n",
        "class Mother:\n",
        "    def skills(self):\n",
        "        print(\"Mother: Painting, Singing\")\n",
        "\n",
        "class Child(Father, Mother):\n",
        "    def own_skills(self):\n",
        "        print(\"Child: Coding\")\n",
        "\n",
        "# Creating object\n",
        "c = Child()\n",
        "c.skills()        # This will call Father's skills() due to MRO\n",
        "c.own_skills()\n"
      ],
      "metadata": {
        "colab": {
          "base_uri": "https://localhost:8080/"
        },
        "id": "zHKy0uqnhVME",
        "outputId": "3803e60f-cce8-44e1-a096-8aa1434a255d"
      },
      "execution_count": 24,
      "outputs": [
        {
          "output_type": "stream",
          "name": "stdout",
          "text": [
            "Father: Cooking, Driving\n",
            "Child: Coding\n"
          ]
        }
      ]
    },
    {
      "cell_type": "markdown",
      "source": [
        "19. Explain the Purpose of `__str__` and `__repr__` Methods in Python.\n",
        "    - In Python, `__str__()` and `__repr__()` are **dunder methods** (double underscore methods) used to define **string representations** of objects.\n",
        "\n",
        "`__str__()`:\n",
        "- Returns a **readable** and **user-friendly** string version of the object.\n",
        "- Called by `print()` and `str()` functions.\n",
        "- Used for **end users**.\n",
        "\n",
        " `__repr__()`:\n",
        "- Returns an **official string representation** of the object.\n",
        "- Called by `repr()` or in the Python shell directly.\n",
        "- Used for **developers** and debugging.\n"
      ],
      "metadata": {
        "id": "Ps7s_Q2iiJHg"
      }
    },
    {
      "cell_type": "markdown",
      "source": [
        " Summary Table: `__str__()` vs `__repr__()`\n",
        "\n",
        "| Feature           | `__str__()`                            | `__repr__()`                          |\n",
        "|-------------------|-----------------------------------------|----------------------------------------|\n",
        "| Purpose           | Readable representation                 | Unambiguous (developer-friendly)       |\n",
        "| Called by         | `print(obj)` or `str(obj)`              | `repr(obj)` or simply typing `obj`     |\n",
        "| Intended for      | End Users                              | Developers / Debugging                 |\n",
        "| Return Type       | String                                  | String                                  |\n",
        "| Fallback Behavior | Falls back to `__repr__()` if missing   | No fallback                            |\n"
      ],
      "metadata": {
        "id": "XcOCkoMGipbt"
      }
    },
    {
      "cell_type": "code",
      "source": [
        "class Student:\n",
        "    def __init__(self, name, grade):\n",
        "        self.name = name\n",
        "        self.grade = grade\n",
        "\n",
        "    def __str__(self):\n",
        "        return f\"Student Name: {self.name}, Grade: {self.grade}\"\n",
        "\n",
        "    def __repr__(self):\n",
        "        return f\"Student('{self.name}', {self.grade})\"\n",
        "\n",
        "# Create object\n",
        "s1 = Student(\"Alice\", 90)\n",
        "\n",
        "# Calling str and repr\n",
        "print(str(s1))    # Calls __str__()\n",
        "print(repr(s1))   # Calls __repr__()\n"
      ],
      "metadata": {
        "colab": {
          "base_uri": "https://localhost:8080/"
        },
        "id": "xkqx15i1iuDa",
        "outputId": "5ce013c4-78f9-439b-c6c8-a0cb692bda93"
      },
      "execution_count": 25,
      "outputs": [
        {
          "output_type": "stream",
          "name": "stdout",
          "text": [
            "Student Name: Alice, Grade: 90\n",
            "Student('Alice', 90)\n"
          ]
        }
      ]
    },
    {
      "cell_type": "markdown",
      "source": [
        "20. What is the significance of the `super()` function in Python?\n",
        "    - The `super()` function in Python is used to **call methods of the parent class** from the child class.\n",
        "\n",
        "It allows **access to the parent class's methods/constructors** without explicitly naming them, especially useful in inheritance and method overriding.\n",
        "\n",
        "\n",
        " Why is `super()` important?\n",
        "- Promotes **code reuse**\n",
        "- Helps in **multiple inheritance**\n",
        "- Avoids explicitly hardcoding parent class names\n",
        "- Maintains the **Method Resolution Order (MRO)**\n"
      ],
      "metadata": {
        "id": "yV95wnWeiwDP"
      }
    },
    {
      "cell_type": "markdown",
      "source": [
        "Summary Table: `super()` Function in Python\n",
        "\n",
        "| Feature             | Description                                                                 |\n",
        "|---------------------|-----------------------------------------------------------------------------|\n",
        "| Purpose             | Call methods of a parent/superclass                                         |\n",
        "| Syntax              | `super().method()` or `super().__init__()`                                  |\n",
        "| Use Case            | Method overriding, constructor inheritance                                  |\n",
        "| Benefits            | Code reuse, follows MRO, avoids hardcoding parent class name                |\n",
        "| Used With           | Single and multiple inheritance                                             |\n"
      ],
      "metadata": {
        "id": "qUVZBfc3jMQC"
      }
    },
    {
      "cell_type": "code",
      "source": [
        "class Animal:\n",
        "    def __init__(self, name):\n",
        "        self.name = name\n",
        "\n",
        "    def speak(self):\n",
        "        print(f\"{self.name} makes a sound\")\n",
        "\n",
        "class Dog(Animal):\n",
        "    def __init__(self, name, breed):\n",
        "        super().__init__(name)  # Calls parent class constructor\n",
        "        self.breed = breed\n",
        "\n",
        "    def speak(self):\n",
        "        super().speak()  # Calls parent class method\n",
        "        print(f\"{self.name} barks\")\n",
        "\n",
        "# Object creation\n",
        "d = Dog(\"Tommy\", \"Labrador\")\n",
        "d.speak()\n"
      ],
      "metadata": {
        "colab": {
          "base_uri": "https://localhost:8080/"
        },
        "id": "_BGAlCkujR46",
        "outputId": "5a7c004f-b21f-41b1-d720-76323d0e8fc5"
      },
      "execution_count": 26,
      "outputs": [
        {
          "output_type": "stream",
          "name": "stdout",
          "text": [
            "Tommy makes a sound\n",
            "Tommy barks\n"
          ]
        }
      ]
    },
    {
      "cell_type": "markdown",
      "source": [
        "21. What is the significance of the `__del__` method in Python?\n",
        "    - The `__del__()` method in Python is known as the **destructor**.  \n",
        "It is called **automatically** when an object is about to be destroyed or garbage collected.\n",
        "\n",
        "This method is used to **clean up resources** (like closing files, network connections, etc.) before the object is deleted from memory.\n",
        "\n",
        "\n",
        "\n",
        "  When is `__del__()` called?\n",
        "- When the reference count of an object reaches zero.\n",
        "- Just before the object is removed from memory.\n",
        "\n",
        ">  Note: Overuse of `__del__()` can be risky, especially if exceptions occur inside it or if used with circular references.\n"
      ],
      "metadata": {
        "id": "QGLzxTTajopy"
      }
    },
    {
      "cell_type": "markdown",
      "source": [
        "Summary Table: `__del__()` Method\n",
        "\n",
        "| Feature              | Description                                            |\n",
        "|----------------------|--------------------------------------------------------|\n",
        "| Method Type          | Destructor method                                      |\n",
        "| Triggered When       | Object is about to be destroyed                        |\n",
        "| Use Case             | Cleanup (close file, release memory, disconnect DB)    |\n",
        "| Syntax               | `def __del__(self):`                                   |\n",
        "| Special Note         | Automatically called by Python's garbage collector     |\n"
      ],
      "metadata": {
        "id": "CnKfxXYJjz4X"
      }
    },
    {
      "cell_type": "code",
      "source": [
        "class FileHandler:\n",
        "    def __init__(self, filename):\n",
        "        self.filename = filename\n",
        "        print(f\"Opening file: {self.filename}\")\n",
        "\n",
        "    def __del__(self):\n",
        "        print(f\"Closing file: {self.filename}\")\n",
        "\n",
        "# Create object\n",
        "f = FileHandler(\"data.txt\")\n",
        "\n",
        "# Delete object explicitly (for demonstration)\n",
        "del f\n"
      ],
      "metadata": {
        "colab": {
          "base_uri": "https://localhost:8080/"
        },
        "id": "wJS0D40uj5w9",
        "outputId": "b0194073-6e60-4940-b478-7e20cab15881"
      },
      "execution_count": 27,
      "outputs": [
        {
          "output_type": "stream",
          "name": "stdout",
          "text": [
            "Opening file: data.txt\n",
            "Closing file: data.txt\n"
          ]
        }
      ]
    },
    {
      "cell_type": "markdown",
      "source": [
        "22. What is the difference between `@staticmethod` and `@classmethod` in Python?\n",
        "    - Both `@staticmethod` and `@classmethod` are used to define methods that are not regular instance methods. However, they behave differently:\n",
        "\n",
        " @staticmethod:\n",
        "- Does **not take `self` or `cls`** as the first argument.\n",
        "- Can’t access or modify class or instance state.\n",
        "- Acts like a **regular function**, just inside the class.\n",
        "\n",
        "  @classmethod:\n",
        "- Takes `cls` as the first argument (refers to the class).\n",
        "- Can **access or modify class-level variables**.\n",
        "- Useful when you need a method that works with the class, not specific instances.\n"
      ],
      "metadata": {
        "id": "qcYsmYgckOuN"
      }
    },
    {
      "cell_type": "markdown",
      "source": [
        " Summary Table: `@staticmethod` vs `@classmethod`\n",
        "\n",
        "| Feature              | @staticmethod                        | @classmethod                           |\n",
        "|----------------------|--------------------------------------|----------------------------------------|\n",
        "| First Parameter      | None                                 | `cls` (class reference)                |\n",
        "| Access Instance Data | ❌ No                                | ❌ No                                  |\n",
        "| Access Class Data    | ❌ No                                | ✅ Yes                                 |\n",
        "| Inheritance Aware    | ❌ No                                | ✅ Yes                                 |\n",
        "| Use Case             | Utility functions                    | Factory methods / class-specific logic |\n"
      ],
      "metadata": {
        "id": "R5IhMnAskkn1"
      }
    },
    {
      "cell_type": "code",
      "source": [
        "class Demo:\n",
        "    class_variable = \"Hello from class\"\n",
        "\n",
        "    @staticmethod\n",
        "    def static_method():\n",
        "        print(\"This is a static method. No access to class or instance.\")\n",
        "\n",
        "    @classmethod\n",
        "    def class_method(cls):\n",
        "        print(\"This is a class method.\")\n",
        "        print(\"Accessing class variable:\", cls.class_variable)\n",
        "\n",
        "# Calling methods\n",
        "Demo.static_method()\n",
        "Demo.class_method()\n"
      ],
      "metadata": {
        "colab": {
          "base_uri": "https://localhost:8080/"
        },
        "id": "E85K3sRZkmYn",
        "outputId": "37edb003-9ebf-461c-e1a5-c95403d9e86d"
      },
      "execution_count": 28,
      "outputs": [
        {
          "output_type": "stream",
          "name": "stdout",
          "text": [
            "This is a static method. No access to class or instance.\n",
            "This is a class method.\n",
            "Accessing class variable: Hello from class\n"
          ]
        }
      ]
    },
    {
      "cell_type": "markdown",
      "source": [
        "23. How does polymorphism work in Python with inheritance?\n",
        "     - **Polymorphism** means “many forms.” In Python, it allows objects of different classes to be treated as objects of a common superclass.\n",
        "\n",
        "When polymorphism is used with **inheritance**, a subclass can **override** a method of its parent class and provide its own implementation.\n",
        "\n",
        "You can call the same method name on objects of different subclasses, and each will respond in its own way — **this is polymorphism** in action.\n",
        "\n",
        " Benefits:\n",
        "- Promotes **flexibility** and **code reuse**.\n",
        "- Supports the **Open/Closed Principle** in OOP: Open for extension, closed for modification.\n"
      ],
      "metadata": {
        "id": "F6PfRn_mlOdF"
      }
    },
    {
      "cell_type": "markdown",
      "source": [
        " Summary Table: Polymorphism with Inheritance\n",
        "\n",
        "| Feature              | Description                                                       |\n",
        "|----------------------|-------------------------------------------------------------------|\n",
        "| Definition           | Same method behaves differently for different classes             |\n",
        "| Relation             | Achieved via inheritance and method overriding                    |\n",
        "| Purpose              | Flexibility, reusable code, modular design                        |\n",
        "| Common Method Used   | Method with same name in base and child classes                   |\n",
        "| Key Principle        | \"One interface, multiple implementations\"                         |\n"
      ],
      "metadata": {
        "id": "mixHpZL6lXNu"
      }
    },
    {
      "cell_type": "code",
      "source": [
        "class Animal:\n",
        "    def speak(self):\n",
        "        print(\"Animal speaks\")\n",
        "\n",
        "class Dog(Animal):\n",
        "    def speak(self):\n",
        "        print(\"Dog barks\")\n",
        "\n",
        "class Cat(Animal):\n",
        "    def speak(self):\n",
        "        print(\"Cat meows\")\n",
        "\n",
        "# Using polymorphism\n",
        "def make_sound(animal):\n",
        "    animal.speak()\n",
        "\n",
        "# Objects\n",
        "dog = Dog()\n",
        "cat = Cat()\n",
        "\n",
        "make_sound(dog)  # Output: Dog barks\n",
        "make_sound(cat)  # Output: Cat meows\n"
      ],
      "metadata": {
        "colab": {
          "base_uri": "https://localhost:8080/"
        },
        "id": "3Y3VN5nElZ7e",
        "outputId": "c9cc4d95-c30c-4876-c5d4-e72809832923"
      },
      "execution_count": 29,
      "outputs": [
        {
          "output_type": "stream",
          "name": "stdout",
          "text": [
            "Dog barks\n",
            "Cat meows\n"
          ]
        }
      ]
    },
    {
      "cell_type": "markdown",
      "source": [
        "24. What is Method Chaining in Python OOP?\n",
        "    - **Method Chaining** is a technique in Object-Oriented Programming (OOP) where multiple methods are called **sequentially** on the same object **in a single line**.\n",
        "\n",
        "This is made possible by having each method return `self`, so the next method can be called on the same object.\n",
        "\n",
        " Benefits:\n",
        "- Makes code more concise and readable.\n",
        "- Useful in **fluent interfaces** or **builder patterns**.\n"
      ],
      "metadata": {
        "id": "Un_8SQPblu_9"
      }
    },
    {
      "cell_type": "markdown",
      "source": [
        " Summary Table: Method Chaining\n",
        "\n",
        "| Feature             | Description                                       |\n",
        "|---------------------|---------------------------------------------------|\n",
        "| Concept             | Calling multiple methods on the same object       |\n",
        "| Returns             | Each method must return `self`                    |\n",
        "| Use Case            | Cleaner and fluent method calls                   |\n",
        "| Common In           | String operations, Pandas, OOP patterns           |\n"
      ],
      "metadata": {
        "id": "J3xG5eqnl54A"
      }
    },
    {
      "cell_type": "code",
      "source": [
        "class Calculator:\n",
        "    def __init__(self, value=0):\n",
        "        self.value = value\n",
        "\n",
        "    def add(self, number):\n",
        "        self.value += number\n",
        "        return self\n",
        "\n",
        "    def multiply(self, number):\n",
        "        self.value *= number\n",
        "        return self\n",
        "\n",
        "    def subtract(self, number):\n",
        "        self.value -= number\n",
        "        return self\n",
        "\n",
        "    def result(self):\n",
        "        print(\"Result:\", self.value)\n",
        "\n",
        "# Method chaining in action\n",
        "calc = Calculator()\n",
        "calc.add(5).multiply(2).subtract(3).result()\n"
      ],
      "metadata": {
        "colab": {
          "base_uri": "https://localhost:8080/"
        },
        "id": "PthsGxP6l7f6",
        "outputId": "690cf56a-f5ed-4b8d-997c-deb441595346"
      },
      "execution_count": 30,
      "outputs": [
        {
          "output_type": "stream",
          "name": "stdout",
          "text": [
            "Result: 7\n"
          ]
        }
      ]
    },
    {
      "cell_type": "markdown",
      "source": [
        "25. What is the purpose of the `__call__()` method in Python?\n",
        "    - The `__call__()` method in Python allows **an instance of a class to be called like a function**.\n",
        "\n",
        "When you define the `__call__()` method in your class and then call an instance of that class using parentheses `()`, Python automatically invokes the `__call__()` method.\n",
        "\n",
        " Why use `__call__()`?\n",
        "- To make objects behave like functions.\n",
        "- Useful in decorators, stateful functions, and command patterns.\n"
      ],
      "metadata": {
        "id": "uElh_e8PmQoZ"
      }
    },
    {
      "cell_type": "markdown",
      "source": [
        "Summary Table: __call__ Method\n",
        "\n",
        "| Feature              | Description                                            |\n",
        "|----------------------|--------------------------------------------------------|\n",
        "| Purpose              | Allow object to be called like a function             |\n",
        "| Syntax               | Define `def __call__(self, ...):` in your class       |\n",
        "| Automatically Called | When instance is followed by parentheses              |\n",
        "| Common Use Cases     | Decorators, function objects, stateful behavior       |\n"
      ],
      "metadata": {
        "id": "LJRpze1Zmbfm"
      }
    },
    {
      "cell_type": "code",
      "source": [
        "class Greet:\n",
        "    def __init__(self, name):\n",
        "        self.name = name\n",
        "\n",
        "    def __call__(self):\n",
        "        print(f\"Hello, {self.name}!\")\n",
        "\n",
        "# Create object\n",
        "g = Greet(\"Vaibhav\")\n",
        "\n",
        "# Call object like a function\n",
        "g()\n"
      ],
      "metadata": {
        "colab": {
          "base_uri": "https://localhost:8080/"
        },
        "id": "pgRIgfixmeew",
        "outputId": "18d93a03-9007-46ca-9cb9-c64d5180c4c1"
      },
      "execution_count": 31,
      "outputs": [
        {
          "output_type": "stream",
          "name": "stdout",
          "text": [
            "Hello, Vaibhav!\n"
          ]
        }
      ]
    },
    {
      "cell_type": "markdown",
      "source": [
        "**Practical Questions**"
      ],
      "metadata": {
        "id": "-ZpYkliBp5Bk"
      }
    },
    {
      "cell_type": "markdown",
      "source": [
        "1. Create a parent class Animal with a method speak() that prints a generic message. Create a child class Dog that overrides the speak() method to print \"Bark!\"."
      ],
      "metadata": {
        "id": "cSki3hvFsbSn"
      }
    },
    {
      "cell_type": "code",
      "source": [
        "# Parent Class\n",
        "class Animal:\n",
        "    def speak(self):\n",
        "        print(\"Animal makes a sound\")\n",
        "\n",
        "# Child Class\n",
        "class Dog(Animal):\n",
        "    def speak(self):\n",
        "        print(\"Bark!\")\n",
        "\n",
        "# Create object of Dog\n",
        "d = Dog()\n",
        "d.speak()\n"
      ],
      "metadata": {
        "colab": {
          "base_uri": "https://localhost:8080/"
        },
        "id": "YEbnm8NZqyot",
        "outputId": "af4c9112-887b-40d0-a78f-57afcba9cf8c"
      },
      "execution_count": 33,
      "outputs": [
        {
          "output_type": "stream",
          "name": "stdout",
          "text": [
            "Bark!\n"
          ]
        }
      ]
    },
    {
      "cell_type": "markdown",
      "source": [
        "**Explanation**\n",
        "\n",
        " Method Overriding Example in Python\n",
        "  - The `Animal` class has a method called `speak()`, which prints a generic message.\n",
        "- The `Dog` class inherits from `Animal` and overrides the `speak()` method.\n",
        "- When `speak()` is called on a `Dog` object, it prints `\"Bark!\"` instead of the generic message.\n"
      ],
      "metadata": {
        "id": "AebsqgzksmST"
      }
    },
    {
      "cell_type": "markdown",
      "source": [
        "2. Write a program to create an abstract class Shape with a method area(). Derive classes Circle and Rectangle from it and implement the area() method in both."
      ],
      "metadata": {
        "id": "4ukr4E4fszY7"
      }
    },
    {
      "cell_type": "code",
      "source": [
        "from abc import ABC, abstractmethod\n",
        "import math\n",
        "\n",
        "# Abstract class\n",
        "class Shape(ABC):\n",
        "    @abstractmethod\n",
        "    def area(self):\n",
        "        pass\n",
        "\n",
        "# Circle class\n",
        "class Circle(Shape):\n",
        "    def __init__(self, radius):\n",
        "        self.radius = radius\n",
        "\n",
        "    def area(self):\n",
        "        return math.pi * self.radius ** 2\n",
        "\n",
        "# Rectangle class\n",
        "class Rectangle(Shape):\n",
        "    def __init__(self, length, width):\n",
        "        self.length = length\n",
        "        self.width = width\n",
        "\n",
        "    def area(self):\n",
        "        return self.length * self.width\n",
        "\n",
        "# Creating objects\n",
        "circle = Circle(5)\n",
        "rectangle = Rectangle(4, 6)\n",
        "\n",
        "# Printing area\n",
        "print(\"Area of Circle:\", circle.area())\n",
        "print(\"Area of Rectangle:\", rectangle.area())\n"
      ],
      "metadata": {
        "colab": {
          "base_uri": "https://localhost:8080/"
        },
        "id": "Y3m9Z7qfs0sW",
        "outputId": "6afb0700-c781-4dec-c752-cdc27b8f3595"
      },
      "execution_count": 34,
      "outputs": [
        {
          "output_type": "stream",
          "name": "stdout",
          "text": [
            "Area of Circle: 78.53981633974483\n",
            "Area of Rectangle: 24\n"
          ]
        }
      ]
    },
    {
      "cell_type": "markdown",
      "source": [
        "**Explanation**\n",
        "   - Abstract Class and Method Implementation\n",
        "\n",
        "- `Shape` is an abstract class with an abstract method `area()`.\n",
        "- `Circle` and `Rectangle` are subclasses that inherit from `Shape`.\n",
        "- Both subclasses implement the `area()` method in their own way:\n",
        "  - Circle uses π × r²\n",
        "  - Rectangle uses length × width\n",
        "- We use the `abc` module to define the abstract base class and method.\n",
        "- Objects of both classes are created and their area is printed.\n"
      ],
      "metadata": {
        "id": "n1SfUvBNs9Zc"
      }
    },
    {
      "cell_type": "markdown",
      "source": [
        "3. Implement a multi-level inheritance scenario where a class Vehicle has an attribute type. Derive a class Car and further derive a class ElectricCar that adds a battery attribute.\n"
      ],
      "metadata": {
        "id": "X6iCGoTutK7k"
      }
    },
    {
      "cell_type": "code",
      "source": [
        "# Base class\n",
        "class Vehicle:\n",
        "    def __init__(self, vehicle_type):\n",
        "        self.type = vehicle_type\n",
        "\n",
        "# Derived class from Vehicle\n",
        "class Car(Vehicle):\n",
        "    def __init__(self, vehicle_type, brand):\n",
        "        super().__init__(vehicle_type)\n",
        "        self.brand = brand\n",
        "\n",
        "# Derived class from Car (Multilevel Inheritance)\n",
        "class ElectricCar(Car):\n",
        "    def __init__(self, vehicle_type, brand, battery_capacity):\n",
        "        super().__init__(vehicle_type, brand)\n",
        "        self.battery = battery_capacity\n",
        "\n",
        "    def display_info(self):\n",
        "        print(f\"Vehicle Type: {self.type}\")\n",
        "        print(f\"Brand: {self.brand}\")\n",
        "        print(f\"Battery Capacity: {self.battery} kWh\")\n",
        "\n",
        "# Creating object of ElectricCar\n",
        "my_electric_car = ElectricCar(\"4-wheeler\", \"Tesla\", 85)\n",
        "my_electric_car.display_info()\n"
      ],
      "metadata": {
        "colab": {
          "base_uri": "https://localhost:8080/"
        },
        "id": "DHsMfKNKtqZf",
        "outputId": "42534de8-8071-4c3e-b126-aeba4b3352e6"
      },
      "execution_count": 35,
      "outputs": [
        {
          "output_type": "stream",
          "name": "stdout",
          "text": [
            "Vehicle Type: 4-wheeler\n",
            "Brand: Tesla\n",
            "Battery Capacity: 85 kWh\n"
          ]
        }
      ]
    },
    {
      "cell_type": "markdown",
      "source": [
        "**Explanation**\n",
        "\n",
        "Multilevel Inheritance in Python\n",
        "\n",
        "- **Vehicle** is the base class with an attribute `type`.\n",
        "- **Car** is derived from `Vehicle` and adds the `brand` attribute.\n",
        "- **ElectricCar** is derived from `Car` and adds the `battery` attribute.\n",
        "- The `super()` function is used to initialize parent class constructors.\n",
        "- The `display_info()` method prints all details of the electric car.\n"
      ],
      "metadata": {
        "id": "t7Pbh4yYtv_c"
      }
    },
    {
      "cell_type": "markdown",
      "source": [
        "4. Demonstrate polymorphism by creating a base class Bird with a method fly(). Create two derived classes Sparrow and Penguin that override the fly() method.\n",
        "\n",
        "\n"
      ],
      "metadata": {
        "id": "kTssl4D6t4GD"
      }
    },
    {
      "cell_type": "code",
      "source": [
        "# Base class\n",
        "class Bird:\n",
        "    def fly(self):\n",
        "        print(\"Some birds can fly\")\n",
        "\n",
        "# Derived class 1\n",
        "class Sparrow(Bird):\n",
        "    def fly(self):\n",
        "        print(\"Sparrow can fly high!\")\n",
        "\n",
        "# Derived class 2\n",
        "class Penguin(Bird):\n",
        "    def fly(self):\n",
        "        print(\"Penguins cannot fly, they swim!\")\n",
        "\n",
        "# Polymorphism in action\n",
        "def bird_flight(bird_obj):\n",
        "    bird_obj.fly()\n",
        "\n",
        "# Testing with both classes\n",
        "sparrow = Sparrow()\n",
        "penguin = Penguin()\n",
        "\n",
        "bird_flight(sparrow)   # Output: Sparrow can fly high!\n",
        "bird_flight(penguin)   # Output: Penguins cannot fly, they swim!\n"
      ],
      "metadata": {
        "colab": {
          "base_uri": "https://localhost:8080/"
        },
        "id": "nX_0AoU3uGnu",
        "outputId": "e0dd05e0-ca10-40a9-934b-93e9688150fa"
      },
      "execution_count": 36,
      "outputs": [
        {
          "output_type": "stream",
          "name": "stdout",
          "text": [
            "Sparrow can fly high!\n",
            "Penguins cannot fly, they swim!\n"
          ]
        }
      ]
    },
    {
      "cell_type": "markdown",
      "source": [
        "**Explanation**\n",
        "\n",
        " Polymorphism using Method Overriding\n",
        "\n",
        "- The base class `Bird` defines a general method `fly()`.\n",
        "- The subclasses `Sparrow` and `Penguin` override this method with their own behavior.\n",
        "- The function `bird_flight()` accepts any object of class `Bird` or its subclass and calls the `fly()` method.\n",
        "- This is runtime polymorphism — the method that gets called depends on the object passed.\n"
      ],
      "metadata": {
        "id": "qp_IrWDbuO0Y"
      }
    },
    {
      "cell_type": "markdown",
      "source": [
        "5. Write a program to demonstrate encapsulation by creating a class BankAccount with private attributes balance and methods to deposit, withdraw, and check balance.\n"
      ],
      "metadata": {
        "id": "cYIrFnRMvEMY"
      }
    },
    {
      "cell_type": "code",
      "source": [
        "class BankAccount:\n",
        "    def __init__(self, initial_balance):\n",
        "        self.__balance = initial_balance  # private attribute\n",
        "\n",
        "    def deposit(self, amount):\n",
        "        if amount > 0:\n",
        "            self.__balance += amount\n",
        "            print(f\"Deposited ₹{amount}\")\n",
        "        else:\n",
        "            print(\"Invalid deposit amount\")\n",
        "\n",
        "    def withdraw(self, amount):\n",
        "        if 0 < amount <= self.__balance:\n",
        "            self.__balance -= amount\n",
        "            print(f\"Withdrew ₹{amount}\")\n",
        "        else:\n",
        "            print(\"Invalid or Insufficient balance\")\n",
        "\n",
        "    def check_balance(self):\n",
        "        print(f\"Current balance: ₹{self.__balance}\")\n",
        "\n",
        "# Creating object\n",
        "account = BankAccount(1000)\n",
        "account.deposit(500)\n",
        "account.withdraw(300)\n",
        "account.check_balance()\n",
        "\n",
        "# Trying to access private attribute directly (should fail)\n",
        "# print(account.__balance)  # ❌ This will raise an AttributeError\n"
      ],
      "metadata": {
        "colab": {
          "base_uri": "https://localhost:8080/"
        },
        "id": "97lB6Nm8vGk0",
        "outputId": "c3f98896-9ee9-4c2d-9f55-57fbe15d84a5"
      },
      "execution_count": 37,
      "outputs": [
        {
          "output_type": "stream",
          "name": "stdout",
          "text": [
            "Deposited ₹500\n",
            "Withdrew ₹300\n",
            "Current balance: ₹1200\n"
          ]
        }
      ]
    },
    {
      "cell_type": "markdown",
      "source": [
        "**Explanation**\n",
        " Encapsulation in Python using Private Attributes\n",
        "\n",
        "- In this example, the class `BankAccount` has a private attribute `__balance`.\n",
        "- You cannot access `__balance` directly from outside the class.\n",
        "- Methods like `deposit()`, `withdraw()`, and `check_balance()` are provided to safely interact with the balance.\n",
        "- This is an example of **encapsulation**, where data is hidden and access is controlled via public methods.\n"
      ],
      "metadata": {
        "id": "u1FuAx5XvLSu"
      }
    },
    {
      "cell_type": "markdown",
      "source": [
        "6.Demonstrate runtime polymorphism using a method play() in a base class Instrument. Derive classes Guitar and Piano that implement their own version of play().\n"
      ],
      "metadata": {
        "id": "kM3qbwutvjFE"
      }
    },
    {
      "cell_type": "code",
      "source": [
        "class Instrument:\n",
        "    def play(self):\n",
        "        print(\"Playing an instrument\")\n",
        "\n",
        "class Guitar(Instrument):\n",
        "    def play(self):\n",
        "        print(\"Strumming the guitar 🎸\")\n",
        "\n",
        "class Piano(Instrument):\n",
        "    def play(self):\n",
        "        print(\"Playing the piano 🎹\")\n",
        "\n",
        "# Function demonstrating runtime polymorphism\n",
        "def perform(instrument):\n",
        "    instrument.play()\n",
        "\n",
        "# Creating objects of derived classes\n",
        "g = Guitar()\n",
        "p = Piano()\n",
        "\n",
        "# Calling the same method on different objects\n",
        "perform(g)  # Output: Strumming the guitar\n",
        "perform(p)  # Output: Playing the piano\n"
      ],
      "metadata": {
        "colab": {
          "base_uri": "https://localhost:8080/"
        },
        "id": "tgd-XNqavoYt",
        "outputId": "21e9019f-6eb0-4a15-ed4c-65f01edf475f"
      },
      "execution_count": 38,
      "outputs": [
        {
          "output_type": "stream",
          "name": "stdout",
          "text": [
            "Strumming the guitar 🎸\n",
            "Playing the piano 🎹\n"
          ]
        }
      ]
    },
    {
      "cell_type": "markdown",
      "source": [
        "**Explanation**\n",
        " Runtime Polymorphism using Method Overriding\n",
        "\n",
        "- Runtime polymorphism allows a method to behave differently based on the object type.\n",
        "- The base class `Instrument` has a method `play()`.\n",
        "- The derived classes `Guitar` and `Piano` override the `play()` method.\n",
        "- When we call `play()` through the `perform()` function, the appropriate method is called depending on the object type.\n",
        "- This is **runtime polymorphism** in Python.\n"
      ],
      "metadata": {
        "id": "242olU-AvsV2"
      }
    },
    {
      "cell_type": "markdown",
      "source": [
        "7.Create a class MathOperations with a class method add_numbers() to add two numbers and a static method subtract_numbers() to subtract two numbers.\n"
      ],
      "metadata": {
        "id": "DHX6UODTv1Az"
      }
    },
    {
      "cell_type": "code",
      "source": [
        "class MathOperations:\n",
        "\n",
        "    @classmethod\n",
        "    def add_numbers(cls, a, b):\n",
        "        return a + b\n",
        "\n",
        "    @staticmethod\n",
        "    def subtract_numbers(a, b):\n",
        "        return a - b\n",
        "\n",
        "# Class method call\n",
        "addition_result = MathOperations.add_numbers(10, 5)\n",
        "print(\"Addition Result:\", addition_result)\n",
        "\n",
        "# Static method call\n",
        "subtraction_result = MathOperations.subtract_numbers(10, 5)\n",
        "print(\"Subtraction Result:\", subtraction_result)\n"
      ],
      "metadata": {
        "colab": {
          "base_uri": "https://localhost:8080/"
        },
        "id": "kxSSssc1v6Be",
        "outputId": "4394597c-c742-48cc-8fd3-4312f379310d"
      },
      "execution_count": 39,
      "outputs": [
        {
          "output_type": "stream",
          "name": "stdout",
          "text": [
            "Addition Result: 15\n",
            "Subtraction Result: 5\n"
          ]
        }
      ]
    },
    {
      "cell_type": "markdown",
      "source": [
        "**Explanation**\n",
        "\n",
        "   Class Method and Static Method Example\n",
        "\n",
        "- `MathOperations` is a class that contains two types of methods:\n",
        "  - `add_numbers()` is a **class method** (uses `@classmethod` decorator and takes `cls` as its first parameter).\n",
        "  - `subtract_numbers()` is a **static method** (uses `@staticmethod` decorator and doesn't require `self` or `cls`).\n",
        "- Both methods take two numbers and perform addition or subtraction.\n",
        "- The methods are called using the class name directly.\n"
      ],
      "metadata": {
        "id": "04MERH_PwXfO"
      }
    },
    {
      "cell_type": "markdown",
      "source": [
        "8. Implement a class Person with a class method to count the total number of persons created."
      ],
      "metadata": {
        "id": "Ki5-_wNewdgO"
      }
    },
    {
      "cell_type": "code",
      "source": [
        "class Person:\n",
        "    count = 0  # class variable to count number of persons\n",
        "\n",
        "    def __init__(self, name):\n",
        "        self.name = name\n",
        "        Person.count += 1  # increment count when object is created\n",
        "\n",
        "    @classmethod\n",
        "    def total_persons(cls):\n",
        "        return cls.count\n",
        "\n",
        "# Creating person objects\n",
        "p1 = Person(\"Alice\")\n",
        "p2 = Person(\"Bob\")\n",
        "p3 = Person(\"Charlie\")\n",
        "\n",
        "# Calling class method to get total count\n",
        "print(\"Total Persons Created:\", Person.total_persons())\n"
      ],
      "metadata": {
        "colab": {
          "base_uri": "https://localhost:8080/"
        },
        "id": "YiyjRh4AwlGd",
        "outputId": "8a514c9a-54f3-435e-e364-4f8a2b56bcd7"
      },
      "execution_count": 40,
      "outputs": [
        {
          "output_type": "stream",
          "name": "stdout",
          "text": [
            "Total Persons Created: 3\n"
          ]
        }
      ]
    },
    {
      "cell_type": "markdown",
      "source": [
        "**Explanation**\n",
        "  Counting Total Persons Using Class Method\n",
        "\n",
        "- A class variable `count` is used to keep track of how many `Person` objects are created.\n",
        "- Every time the constructor `__init__()` is called, `count` is increased by 1.\n",
        "- A class method `total_persons()` returns the current value of `count`.\n",
        "- Objects p1, p2, and p3 are created, so total count is 3.\n"
      ],
      "metadata": {
        "id": "I-x2foK8w7a6"
      }
    },
    {
      "cell_type": "markdown",
      "source": [
        "9. Write a class Fraction with attributes numerator and denominator. Override the str method to display the fraction as \"numerator/denominator\"."
      ],
      "metadata": {
        "id": "MSgpqM-kxE46"
      }
    },
    {
      "cell_type": "code",
      "source": [
        "class Fraction:\n",
        "    def __init__(self, numerator, denominator):\n",
        "        self.numerator = numerator\n",
        "        self.denominator = denominator\n",
        "\n",
        "    def __str__(self):\n",
        "        return f\"{self.numerator}/{self.denominator}\"\n",
        "\n",
        "# Test the class\n",
        "f = Fraction(5, 2)\n",
        "print(f)\n"
      ],
      "metadata": {
        "colab": {
          "base_uri": "https://localhost:8080/"
        },
        "id": "fEyOkC9uxHum",
        "outputId": "5b22df7f-f943-490d-c768-7ab35da8364e"
      },
      "execution_count": 44,
      "outputs": [
        {
          "output_type": "stream",
          "name": "stdout",
          "text": [
            "5/2\n"
          ]
        }
      ]
    },
    {
      "cell_type": "markdown",
      "source": [
        "**Explanation**\n",
        "__init__ method: This is the constructor that initializes the numerator and denominator attributes when a Fraction object is created.\n",
        "\n",
        "__str__ method: This special method overrides the default string representation of the object. When you use print() on a Fraction object, it will display in the format \"numerator/denominator\"."
      ],
      "metadata": {
        "id": "kq-8XEGVxPl7"
      }
    },
    {
      "cell_type": "markdown",
      "source": [
        "10. Demonstrate operator overloading by creating a class Vector and overriding the add method to add two vectors."
      ],
      "metadata": {
        "id": "lJ6fJqrMyZne"
      }
    },
    {
      "cell_type": "code",
      "source": [
        "class Vector:\n",
        "    def __init__(self, x, y):\n",
        "        self.x = x\n",
        "        self.y = y\n",
        "\n",
        "    def __add__(self, other):\n",
        "        return Vector(self.x + other.x, self.y + other.y)\n",
        "\n",
        "    def __str__(self):\n",
        "        return f\"({self.x}, {self.y})\"\n",
        "\n",
        "# Test the class\n",
        "v1 = Vector(2, 3)\n",
        "v2 = Vector(4, 5)\n",
        "v3 = v1 + v2\n",
        "print(v3)  # Output: (6, 8)\n"
      ],
      "metadata": {
        "colab": {
          "base_uri": "https://localhost:8080/"
        },
        "id": "qfKj1xnqycBx",
        "outputId": "03cb6dc6-67c6-4790-c9fa-bee98ede4eb7"
      },
      "execution_count": 45,
      "outputs": [
        {
          "output_type": "stream",
          "name": "stdout",
          "text": [
            "(6, 8)\n"
          ]
        }
      ]
    },
    {
      "cell_type": "markdown",
      "source": [
        "**Explanatio**n\n",
        "Class Name: Vector\n",
        "\n",
        "Attributes:\n",
        "\n",
        "x: X-coordinate\n",
        "\n",
        "y: Y-coordinate\n",
        "\n",
        "__add__ Method:\n",
        "\n",
        "This is Python’s way of overloading the + operator.\n",
        "\n",
        "When you do v1 + v2, it calls v1.__add__(v2) internally.\n",
        "\n",
        "It returns a new Vector whose x and y are the sum of the respective components.\n",
        "\n",
        "__str__ Method:\n",
        "\n",
        "Makes the output readable in the format (x, y) when printed."
      ],
      "metadata": {
        "id": "nW7g8uveyjkO"
      }
    },
    {
      "cell_type": "markdown",
      "source": [
        "11. Create a class Person with attributes name and age. Add a method greet() that prints \"Hello, my name is {name} and I am {age} years old.\"\n"
      ],
      "metadata": {
        "id": "i2CqNUIfymNu"
      }
    },
    {
      "cell_type": "code",
      "source": [
        "class Person:\n",
        "    def __init__(self, name, age):\n",
        "        self.name = name\n",
        "        self.age = age\n",
        "\n",
        "    def greet(self):\n",
        "        print(f\"Hello, my name is {self.name} and I am {self.age} years old.\")\n",
        "\n",
        "# Test the class\n",
        "p = Person(\"Aarav\", 21)\n",
        "p.greet()  # Output: Hello, my name is Aarav and I am 21 years old.\n"
      ],
      "metadata": {
        "colab": {
          "base_uri": "https://localhost:8080/"
        },
        "id": "dPzeBEZvytg_",
        "outputId": "af76aad3-ce14-49c1-f8f6-0488458b9f6d"
      },
      "execution_count": 46,
      "outputs": [
        {
          "output_type": "stream",
          "name": "stdout",
          "text": [
            "Hello, my name is Aarav and I am 21 years old.\n"
          ]
        }
      ]
    },
    {
      "cell_type": "markdown",
      "source": [
        "**Explanation**\n",
        "Class Name: Person\n",
        "\n",
        "Attributes:\n",
        "\n",
        "name: Person ka naam\n",
        "\n",
        "age: Person ki umar\n",
        "\n",
        "Method greet():\n",
        "\n",
        "Jab call karte ho (p.greet()), yeh ek message print karta hai:"
      ],
      "metadata": {
        "id": "3qL8ALvBywqO"
      }
    },
    {
      "cell_type": "markdown",
      "source": [
        "12. Implement a class Student with attributes name and grades. Create a method average_grade() to compute the average of the grades.\n"
      ],
      "metadata": {
        "id": "RNjIcFxVy3o4"
      }
    },
    {
      "cell_type": "code",
      "source": [
        "class Student:\n",
        "    def __init__(self, name, grades):\n",
        "        self.name = name\n",
        "        self.grades = grades  # List of grades\n",
        "\n",
        "    def average_grade(self):\n",
        "        if not self.grades:\n",
        "            return 0\n",
        "        return sum(self.grades) / len(self.grades)\n",
        "\n",
        "# Test the class\n",
        "s = Student(\"Ishita\", [85, 90, 78, 92])\n",
        "print(f\"{s.name}'s average grade is: {s.average_grade():.2f}\")\n"
      ],
      "metadata": {
        "colab": {
          "base_uri": "https://localhost:8080/"
        },
        "id": "3_R50DSEy-Ph",
        "outputId": "117e112a-1863-4514-8d36-5c629149ee7c"
      },
      "execution_count": 47,
      "outputs": [
        {
          "output_type": "stream",
          "name": "stdout",
          "text": [
            "Ishita's average grade is: 86.25\n"
          ]
        }
      ]
    },
    {
      "cell_type": "markdown",
      "source": [
        "**Explanation**\n",
        "  Class Name: Student\n",
        "\n",
        " Attributes:\n",
        "\n",
        "name: Student ka naam\n",
        "\n",
        "grades: Ek list jisme multiple marks hain\n",
        "\n",
        "Method average_grade():\n",
        "\n",
        "Sabhi grades ka average calculate karta hai\n",
        "\n",
        "Agar list empty ho to 0 return karta hai (error se bachne ke liye)"
      ],
      "metadata": {
        "id": "3sxcMe5GzBr5"
      }
    },
    {
      "cell_type": "markdown",
      "source": [
        "13. Create a class Rectangle with methods set_dimensions() to set the dimensions and area() to calculate the\n",
        "area."
      ],
      "metadata": {
        "id": "sCPdGNgMzGv0"
      }
    },
    {
      "cell_type": "code",
      "source": [
        "class Rectangle:\n",
        "    def __init__(self):\n",
        "        self.length = 0\n",
        "        self.width = 0\n",
        "\n",
        "    def set_dimensions(self, length, width):\n",
        "        self.length = length\n",
        "        self.width = width\n",
        "\n",
        "    def area(self):\n",
        "        return self.length * self.width\n",
        "\n",
        "# Test the class\n",
        "r = Rectangle()\n",
        "r.set_dimensions(5, 3)\n",
        "print(f\"Area of rectangle: {r.area()}\")  # Output: 15\n"
      ],
      "metadata": {
        "colab": {
          "base_uri": "https://localhost:8080/"
        },
        "id": "zB0PxchozJ3W",
        "outputId": "32ac1c12-76e6-4495-b990-243f27a9d48b"
      },
      "execution_count": 48,
      "outputs": [
        {
          "output_type": "stream",
          "name": "stdout",
          "text": [
            "Area of rectangle: 15\n"
          ]
        }
      ]
    },
    {
      "cell_type": "markdown",
      "source": [
        "**Explanation**\n",
        "Class Name: Rectangle\n",
        "\n",
        "Attributes:\n",
        "\n",
        "length: Lambai\n",
        "\n",
        "width: Chaudai\n",
        "\n",
        "Method set_dimensions(length, width):\n",
        "\n",
        "Rectangle ki dimensions set karta hai\n",
        "\n",
        "Method area():\n",
        "\n",
        "Area calculate karta hai using formula: length × width"
      ],
      "metadata": {
        "id": "t5QwRYpjzOP_"
      }
    },
    {
      "cell_type": "markdown",
      "source": [
        "14. Create a class Employee with a method calculate_salary() that computes the salary based on hours worked and hourly rate. Create a derived class Manager that adds a bonus to the salary.\n"
      ],
      "metadata": {
        "id": "nZ_YO_OrzSd9"
      }
    },
    {
      "cell_type": "code",
      "source": [
        "class Employee:\n",
        "    def __init__(self, name, hours_worked, hourly_rate):\n",
        "        self.name = name\n",
        "        self.hours_worked = hours_worked\n",
        "        self.hourly_rate = hourly_rate\n",
        "\n",
        "    def calculate_salary(self):\n",
        "        return self.hours_worked * self.hourly_rate\n",
        "\n",
        "class Manager(Employee):\n",
        "    def __init__(self, name, hours_worked, hourly_rate, bonus):\n",
        "        super().__init__(name, hours_worked, hourly_rate)\n",
        "        self.bonus = bonus\n",
        "\n",
        "    def calculate_salary(self):\n",
        "        return super().calculate_salary() + self.bonus\n",
        "\n",
        "# Test the classes\n",
        "emp = Employee(\"Rohit\", 40, 250)\n",
        "print(f\"{emp.name}'s salary: ₹{emp.calculate_salary()}\")  # Output: ₹10000\n",
        "\n",
        "mgr = Manager(\"Sneha\", 40, 250, 5000)\n",
        "print(f\"{mgr.name}'s salary: ₹{mgr.calculate_salary()}\")  # Output: ₹15000\n"
      ],
      "metadata": {
        "colab": {
          "base_uri": "https://localhost:8080/"
        },
        "id": "xHEAhM03zd59",
        "outputId": "ff47ecba-1140-4aa0-c5af-bdf0169fe1f0"
      },
      "execution_count": 49,
      "outputs": [
        {
          "output_type": "stream",
          "name": "stdout",
          "text": [
            "Rohit's salary: ₹10000\n",
            "Sneha's salary: ₹15000\n"
          ]
        }
      ]
    },
    {
      "cell_type": "markdown",
      "source": [
        "**Explanation**\n",
        "Class Employee:\n",
        "\n",
        "Attributes: name, hours_worked, hourly_rate\n",
        "\n",
        "Method calculate_salary() returns basic salary: hours_worked × hourly_rate\n",
        "\n",
        "Class Manager (inherits from Employee):\n",
        "\n",
        "Adds a new attribute: bonus\n",
        "\n",
        "Overrides calculate_salary() to include bonus: base salary + bonus"
      ],
      "metadata": {
        "id": "r2FPIGmh0EOm"
      }
    },
    {
      "cell_type": "markdown",
      "source": [
        "15. Create a class Product with attributes name, price, and quantity. Implement a method total_price() that\n",
        "calculates the total price of the product."
      ],
      "metadata": {
        "id": "gmOH-iyF0FvF"
      }
    },
    {
      "cell_type": "code",
      "source": [
        "class Product:\n",
        "    def __init__(self, name, price, quantity):\n",
        "        self.name = name\n",
        "        self.price = price\n",
        "        self.quantity = quantity\n",
        "\n",
        "    def total_price(self):\n",
        "        return self.price * self.quantity\n",
        "\n",
        "# Test the class\n",
        "p = Product(\"Laptop\", 50000, 2)\n",
        "print(f\"Total price for {p.quantity} {p.name}(s): ₹{p.total_price()}\")  # Output: ₹100000\n"
      ],
      "metadata": {
        "colab": {
          "base_uri": "https://localhost:8080/"
        },
        "id": "IqQhQbQ40JCH",
        "outputId": "b7d0aad8-0d86-431b-ce65-73bc9962b897"
      },
      "execution_count": 50,
      "outputs": [
        {
          "output_type": "stream",
          "name": "stdout",
          "text": [
            "Total price for 2 Laptop(s): ₹100000\n"
          ]
        }
      ]
    },
    {
      "cell_type": "markdown",
      "source": [
        "**Explanation**\n",
        "Class Name: Product\n",
        "\n",
        "Attributes:\n",
        "\n",
        "name: Product ka naam\n",
        "\n",
        "price: Ek item ka price\n",
        "\n",
        "quantity: Kitne items kharide gaye\n",
        "\n",
        "Method total_price():\n",
        "\n",
        "Total price calculate karta hai using formula: price × quantity"
      ],
      "metadata": {
        "id": "by20GpFZ0PN-"
      }
    },
    {
      "cell_type": "markdown",
      "source": [
        "16.Create a class Animal with an abstract method sound(). Create two derived classes Cow and Sheep that implement the sound() method.*italicized text*\n"
      ],
      "metadata": {
        "id": "PVZGv7hG0Qwb"
      }
    },
    {
      "cell_type": "code",
      "source": [
        "from abc import ABC, abstractmethod\n",
        "\n",
        "class Animal(ABC):\n",
        "    @abstractmethod\n",
        "    def sound(self):\n",
        "        pass\n",
        "\n",
        "class Cow(Animal):\n",
        "    def sound(self):\n",
        "        return \"Cow says Moo\"\n",
        "\n",
        "class Sheep(Animal):\n",
        "    def sound(self):\n",
        "        return \"Sheep says Baa\"\n",
        "\n",
        "# Test the classes\n",
        "c = Cow()\n",
        "s = Sheep()\n",
        "print(c.sound())  # Output: Cow says Moo\n",
        "print(s.sound())  # Output: Sheep says Baa\n"
      ],
      "metadata": {
        "colab": {
          "base_uri": "https://localhost:8080/"
        },
        "id": "z-haVgRJ0U_2",
        "outputId": "60a5a194-34f0-40c6-a777-ac84720dc32d"
      },
      "execution_count": 51,
      "outputs": [
        {
          "output_type": "stream",
          "name": "stdout",
          "text": [
            "Cow says Moo\n",
            "Sheep says Baa\n"
          ]
        }
      ]
    },
    {
      "cell_type": "markdown",
      "source": [
        "**Explanation**\n",
        "Abstract Class Animal:\n",
        "\n",
        "Uses ABC (Abstract Base Class) from Python’s abc module\n",
        "\n",
        "Has an abstract method sound() that must be implemented by derived classes\n",
        "\n",
        "Derived Classes:\n",
        "\n",
        "Cow and Sheep inherit from Animal\n",
        "\n",
        "Both override the sound() method with their own implementation"
      ],
      "metadata": {
        "id": "Z8JCbnw40l-n"
      }
    },
    {
      "cell_type": "markdown",
      "source": [
        "17. Create a class Book with attributes title, author, and year_published. Add a method get_book_info() that returns a formatted string with the book's details.\n"
      ],
      "metadata": {
        "id": "P1DuptID0rkW"
      }
    },
    {
      "cell_type": "code",
      "source": [
        "class Book:\n",
        "    def __init__(self, title, author, year_published):\n",
        "        self.title = title\n",
        "        self.author = author\n",
        "        self.year_published = year_published\n",
        "\n",
        "    def get_book_info(self):\n",
        "        return f\"'{self.title}' by {self.author}, published in {self.year_published}\"\n",
        "\n",
        "# Test the class\n",
        "b = Book(\"The Alchemist\", \"Paulo Coelho\", 1988)\n",
        "print(b.get_book_info())  # Output: 'The Alchemist' by Paulo Coelho, published in 1988\n"
      ],
      "metadata": {
        "colab": {
          "base_uri": "https://localhost:8080/"
        },
        "id": "paWyScNm0uTf",
        "outputId": "3c7d6a1c-4fff-4542-fc74-94a37fcb8de9"
      },
      "execution_count": 52,
      "outputs": [
        {
          "output_type": "stream",
          "name": "stdout",
          "text": [
            "'The Alchemist' by Paulo Coelho, published in 1988\n"
          ]
        }
      ]
    },
    {
      "cell_type": "markdown",
      "source": [
        "**Explanation**\n",
        "Class Name: Book\n",
        "\n",
        "Attributes:\n",
        "\n",
        "title: Book ka naam\n",
        "\n",
        "author: Book ka lekhak\n",
        "\n",
        "year_published: Kis saal publish hui\n",
        "\n",
        "Method get_book_info():\n",
        "\n",
        "Ek formatted string return karta hai jisme book ke sab details hote hain"
      ],
      "metadata": {
        "id": "4WyR4eBR0zlG"
      }
    },
    {
      "cell_type": "markdown",
      "source": [
        "18. Create a class House with attributes address and price. Create a derived class Mansion that adds an attribute number_of_rooms.\n"
      ],
      "metadata": {
        "id": "JnXuH6-N08Av"
      }
    },
    {
      "cell_type": "code",
      "source": [
        "class House:\n",
        "    def __init__(self, address, price):\n",
        "        self.address = address\n",
        "        self.price = price\n",
        "\n",
        "class Mansion(House):\n",
        "    def __init__(self, address, price, number_of_rooms):\n",
        "        super().__init__(address, price)\n",
        "        self.number_of_rooms = number_of_rooms\n",
        "\n",
        "# Test the classes\n",
        "h = House(\"123 Green Street\", 750000)\n",
        "print(f\"House at {h.address} costs ₹{h.price}\")\n",
        "\n",
        "m = Mansion(\"456 Royal Avenue\", 2500000, 10)\n",
        "print(f\"Mansion at {m.address} costs ₹{m.price} and has {m.number_of_rooms} rooms\")\n"
      ],
      "metadata": {
        "colab": {
          "base_uri": "https://localhost:8080/"
        },
        "id": "_XC6vIWu09wO",
        "outputId": "e7aa5367-c783-4b6e-90ea-cd67caaeb0ce"
      },
      "execution_count": 53,
      "outputs": [
        {
          "output_type": "stream",
          "name": "stdout",
          "text": [
            "House at 123 Green Street costs ₹750000\n",
            "Mansion at 456 Royal Avenue costs ₹2500000 and has 10 rooms\n"
          ]
        }
      ]
    },
    {
      "cell_type": "markdown",
      "source": [
        "**Explanation**\n",
        "Class House:\n",
        "\n",
        "Attributes: address, price\n",
        "\n",
        "Represents a basic house\n",
        "\n",
        "Class Mansion (inherits from House):\n",
        "\n",
        "Adds a new attribute: number_of_rooms\n",
        "\n",
        "Uses super() to call the base class constructor"
      ],
      "metadata": {
        "id": "FdIy1y1E1BZg"
      }
    }
  ]
}